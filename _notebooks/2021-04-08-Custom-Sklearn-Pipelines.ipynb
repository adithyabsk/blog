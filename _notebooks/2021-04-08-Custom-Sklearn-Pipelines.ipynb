{
 "cells": [
  {
   "cell_type": "markdown",
   "source": [
    "# How to use Custom Sklearn Classes and Pipelines\n",
    "\n",
    "- toc: false\n",
    "- badges: true\n",
    "- comments: true\n",
    "- category: datascience\n",
    "- description: How to use Scikit-Learn's deeper features to build custom models and transformers.\n",
    "- image: images/copied_from_nb/sklearn.png"
   ],
   "metadata": {
    "tags": [],
    "cell_id": "00000-ba9e9783-e9e7-4daf-9377-7965b349823a",
    "deepnote_cell_type": "markdown"
   }
  },
  {
   "cell_type": "markdown",
   "source": [
    "![Sklearn Cover Photo](sklearn.png)"
   ],
   "metadata": {
    "collapsed": false
   }
  },
  {
   "cell_type": "markdown",
   "source": [
    "## Introduction\n",
    "\n",
    "[Scikit-learn](https://github.com/scikit-learn/scikit-learn) (or `sklearn`) is the machine learning tool of choice for exploratory analysis by data scientists. It has over 45k stars on GitHub and was downloaded [over 7 million times](https://pypistats.org/packages/scikit-learn) in the last month (March 2021) Their `fit` / `transform` / `predict` API is now ubiquitous in the python machine learning ecosystem with many other open source projects choosing to be compatible with that API.\n",
    "\n",
    "### Motivation\n",
    "\n",
    "In order to leverage the deeper features of the `sklearn` platform, it is useful to build custom data transformation pipelines using the provided classes. In this blog post, we will focus on using [Custom Transformers](https://scikit-learn.org/stable/modules/generated/sklearn.base.TransformerMixin.html) and [Pipelines](https://scikit-learn.org/stable/modules/generated/sklearn.pipeline.Pipeline.html) which are essential to delivering replicable results.\n",
    "\n",
    "When dealing with real-world data, it is often difficult to convert data manipulations into repeatable steps: this is where custom transformers come into play. Additionally, you might then want to apply these custom transformations in sequence. This is where `Pipelines` become useful. Putting these two tools together, you have a powerful playbook to handle all the messy data the real world throws at you.\n",
    "\n",
    "[comment]: <> (Note the HTML tags use primer.css classes)\n",
    "\n",
    "<div class=\"flash\">\n",
    "<b>Note:</b> This blog post assumes that you already have a basic understanding of the <code>sklearn</code> API and concepts such as <code>fit</code> / <code>transform</code> / <code>predict</code> and so on. If some of that is new to you, please check out <a href=\"https://scikit-learn.org/stable/tutorial/basic/tutorial.html\">this fantastic page in the `sklearn` docs.</a>\n",
    "</div>"
   ],
   "metadata": {
    "tags": [],
    "cell_id": "00001-57dbdfeb-2c4c-4682-90e0-5a26276af1f0",
    "deepnote_cell_type": "markdown"
   }
  },
  {
   "cell_type": "code",
   "metadata": {
    "tags": [],
    "cell_id": "00002-d3e8b41e-5ac6-48ee-9ed7-bf07efe2e846",
    "deepnote_to_be_reexecuted": false,
    "source_hash": "36ad4605",
    "execution_millis": 40619,
    "is_output_hidden": true,
    "execution_start": 1617968745279,
    "deepnote_cell_type": "code"
   },
   "source": [
    "# hide_output\n",
    "# Install Required packages\n",
    "# Python 3.8\n",
    "!pip install --upgrade pip\n",
    "!pip install kaggle==1.5.12\n",
    "!pip install scikit-learn==0.24.1\n",
    "!pip install pandas==1.2.3\n",
    "!pip install python-dotenv==0.17.0\n",
    "!pip install fastcore==1.3.19"
   ],
   "execution_count": null,
   "outputs": [
    {
     "name": "stdout",
     "text": "Requirement already satisfied: pip in /root/venv/lib/python3.8/site-packages (21.0.1)\nRequirement already satisfied: kaggle==1.5.12 in /root/venv/lib/python3.8/site-packages (1.5.12)\nRequirement already satisfied: requests in /shared-libs/python3.8/py/lib/python3.8/site-packages (from kaggle==1.5.12) (2.25.1)\nRequirement already satisfied: python-slugify in /shared-libs/python3.8/py/lib/python3.8/site-packages (from kaggle==1.5.12) (4.0.1)\nRequirement already satisfied: urllib3 in /shared-libs/python3.8/py/lib/python3.8/site-packages (from kaggle==1.5.12) (1.26.4)\nRequirement already satisfied: python-dateutil in /shared-libs/python3.8/py-core/lib/python3.8/site-packages (from kaggle==1.5.12) (2.8.1)\nRequirement already satisfied: six>=1.10 in /shared-libs/python3.8/py-core/lib/python3.8/site-packages (from kaggle==1.5.12) (1.15.0)\nRequirement already satisfied: certifi in /shared-libs/python3.8/py/lib/python3.8/site-packages (from kaggle==1.5.12) (2020.12.5)\nRequirement already satisfied: tqdm in /shared-libs/python3.8/py/lib/python3.8/site-packages (from kaggle==1.5.12) (4.59.0)\nRequirement already satisfied: text-unidecode>=1.3 in /shared-libs/python3.8/py/lib/python3.8/site-packages (from python-slugify->kaggle==1.5.12) (1.3)\nRequirement already satisfied: chardet<5,>=3.0.2 in /shared-libs/python3.8/py/lib/python3.8/site-packages (from requests->kaggle==1.5.12) (3.0.4)\nRequirement already satisfied: idna<3,>=2.5 in /shared-libs/python3.8/py/lib/python3.8/site-packages (from requests->kaggle==1.5.12) (2.10)\nRequirement already satisfied: scikit-learn==0.24.1 in /shared-libs/python3.8/py/lib/python3.8/site-packages (0.24.1)\nRequirement already satisfied: joblib>=0.11 in /shared-libs/python3.8/py/lib/python3.8/site-packages (from scikit-learn==0.24.1) (1.0.1)\nRequirement already satisfied: numpy>=1.13.3 in /shared-libs/python3.8/py/lib/python3.8/site-packages (from scikit-learn==0.24.1) (1.19.5)\nRequirement already satisfied: scipy>=0.19.1 in /shared-libs/python3.8/py/lib/python3.8/site-packages (from scikit-learn==0.24.1) (1.6.1)\nRequirement already satisfied: threadpoolctl>=2.0.0 in /shared-libs/python3.8/py/lib/python3.8/site-packages (from scikit-learn==0.24.1) (2.1.0)\nRequirement already satisfied: pandas==1.2.3 in /shared-libs/python3.8/py/lib/python3.8/site-packages (1.2.3)\nRequirement already satisfied: pytz>=2017.3 in /shared-libs/python3.8/py/lib/python3.8/site-packages (from pandas==1.2.3) (2021.1)\nRequirement already satisfied: python-dateutil>=2.7.3 in /shared-libs/python3.8/py-core/lib/python3.8/site-packages (from pandas==1.2.3) (2.8.1)\nRequirement already satisfied: numpy>=1.16.5 in /shared-libs/python3.8/py/lib/python3.8/site-packages (from pandas==1.2.3) (1.19.5)\nRequirement already satisfied: six>=1.5 in /shared-libs/python3.8/py-core/lib/python3.8/site-packages (from python-dateutil>=2.7.3->pandas==1.2.3) (1.15.0)\nRequirement already satisfied: python-dotenv==0.17.0 in /root/venv/lib/python3.8/site-packages (0.17.0)\nRequirement already satisfied: fastcore==1.3.19 in /root/venv/lib/python3.8/site-packages (1.3.19)\nRequirement already satisfied: packaging in /shared-libs/python3.8/py-core/lib/python3.8/site-packages (from fastcore==1.3.19) (20.9)\nRequirement already satisfied: pip in /root/venv/lib/python3.8/site-packages (from fastcore==1.3.19) (21.0.1)\nRequirement already satisfied: pyparsing>=2.0.2 in /shared-libs/python3.8/py-core/lib/python3.8/site-packages (from packaging->fastcore==1.3.19) (2.4.7)\n",
     "output_type": "stream"
    }
   ]
  },
  {
   "cell_type": "code",
   "metadata": {
    "tags": [],
    "cell_id": "00002-91ec0196-72d9-4d97-9208-0b6535cd3f1c",
    "deepnote_to_be_reexecuted": false,
    "source_hash": "dff2fb49",
    "execution_millis": 3023,
    "execution_start": 1617968785908,
    "deepnote_cell_type": "code"
   },
   "source": [
    "# Imports\n",
    "from pathlib import Path\n",
    "from pprint import pprint\n",
    "from typing import Any, Union\n",
    "\n",
    "import numpy as np\n",
    "import pandas as pd\n",
    "from fastcore.basics import patch\n",
    "from pandas import json_normalize\n",
    "from sklearn.base import BaseEstimator, ClassifierMixin, TransformerMixin, clone\n",
    "from sklearn.feature_extraction import DictVectorizer\n",
    "from sklearn.feature_extraction.text import TfidfTransformer\n",
    "from sklearn.linear_model import LogisticRegression\n",
    "from sklearn.metrics import accuracy_score\n",
    "from sklearn.model_selection import train_test_split\n",
    "from sklearn.pipeline import Pipeline\n",
    "from sklearn.preprocessing import FunctionTransformer, OrdinalEncoder\n",
    "from sklearn.utils.validation import check_array, check_is_fitted\n",
    "\n",
    "np.random.seed(42)\n",
    "\n",
    "SklearnInput = Union[list, np.ndarray, pd.DataFrame, pd.Series]"
   ],
   "execution_count": null,
   "outputs": []
  },
  {
   "cell_type": "markdown",
   "source": [
    "## The Dataset\n",
    "\n",
    "In this blog post we'll be using the motivating example of\n",
    "[the Prescription Based Prediction (PBP) dataset](https://www.kaggle.com/roamresearch/prescriptionbasedprediction). The\n",
    "PBP dataset combines the frequencies of prescribed medication under Medicare part D with practitioner data  from the\n",
    "National Provider Identifier dataset. The authors of this aggregate dataset had a corresponding blog post explaining the\n",
    "dataset in a bit more detail. It is no longer live, but it is still available on\n",
    "[The Wayback Machine](https://web.archive.org/web/20180211230833/http://roamanalytics.com:80/2016/09/13/prescription-based-prediction/#The-target-variables-and-their-relationships).\n",
    "\n",
    "<div class=\"d-flex flex-justify-center\">\n",
    "<a href=\"https://www.medicare.gov/\" style=\"width:50%\">\n",
    "<img src=\"https://assets-global.website-files.com/59d3b5e54e9881000114dd8b/5da5f673cddab7fa97f6cf62_medicare.jpg\" alt=\"Medicare Logo\"/>\n",
    "</a>\n",
    "</div>\n",
    "\n",
    "<div class=\"flash\">\n",
    "<b>Note:</b> You'll need to configure your Kaggle API credentials to download the dataset or, you can simply go to Kaggle and manually unzip the data into the notebook folder. Simply uncomment the next line and replace it with your kaggle credentials. <a href=\"https://github.com/Kaggle/kaggle-api#api-credentials\">Read more about this here.</a>\n",
    "</div>"
   ],
   "metadata": {
    "tags": [],
    "cell_id": "00002-3dba9104-200c-407d-95de-cfc5b30f980e",
    "deepnote_cell_type": "markdown"
   }
  },
  {
   "cell_type": "code",
   "metadata": {
    "tags": [],
    "cell_id": "00003-39d6ddfe-e5a9-4785-b833-b82cee2e45e6",
    "deepnote_to_be_reexecuted": false,
    "source_hash": "b756b80f",
    "execution_millis": 23,
    "execution_start": 1617968788936,
    "deepnote_cell_type": "code"
   },
   "source": [
    "# !echo -e \"export KAGGLE_USERNAME=INSERT_USERNAME\\nexport KAGGLE_KEY=INSERT_KEY\" >> .env"
   ],
   "execution_count": null,
   "outputs": []
  },
  {
   "cell_type": "code",
   "metadata": {
    "tags": [],
    "cell_id": "00003-2a135416-f7eb-4521-a9da-eed8e308bc6c",
    "deepnote_to_be_reexecuted": false,
    "source_hash": "17a785a5",
    "execution_millis": 2435,
    "execution_start": 1617968788976,
    "deepnote_cell_type": "code"
   },
   "source": [
    "# dotenv has to be imported before kaggle because it errors if it cannot find credentials\n",
    "from dotenv import load_dotenv\n",
    "\n",
    "load_dotenv()\n",
    "import kaggle\n",
    "\n",
    "kaggle.api.authenticate()\n",
    "kaggle.api.dataset_download_files(\n",
    "    \"roamresearch/prescriptionbasedprediction\", unzip=True\n",
    ")"
   ],
   "execution_count": null,
   "outputs": []
  },
  {
   "cell_type": "markdown",
   "source": [
    "The data itself is in the uncommon [`.jsonl`](https://jsonlines.org/) format which is a newline delimited dataset. Each line contains a `json` object. We can use pandas to read this dataset into a [`pd.DataFrame`](https://pandas.pydata.org/pandas-docs/stable/reference/api/pandas.DataFrame.html)."
   ],
   "metadata": {
    "tags": [],
    "cell_id": "00007-fddee293-0d3f-4796-87ed-bc11ed2b0043",
    "deepnote_cell_type": "markdown"
   }
  },
  {
   "cell_type": "code",
   "metadata": {
    "tags": [],
    "cell_id": "00004-a3f28898-406a-47cb-9109-499a171d0e4a",
    "deepnote_to_be_reexecuted": false,
    "source_hash": "3228b2e3",
    "execution_millis": 9388,
    "is_output_hidden": false,
    "execution_start": 1617968791417,
    "deepnote_cell_type": "code"
   },
   "source": [
    "FPATH = Path(\"/work/roam_prescription_based_prediction.jsonl\")\n",
    "df = pd.read_json(FPATH, lines=True, orient=\"columns\")\n",
    "df.head(3)"
   ],
   "execution_count": null,
   "outputs": [
    {
     "output_type": "execute_result",
     "execution_count": 5,
     "data": {
      "application/vnd.deepnote.dataframe.v2+json": {
       "row_count": 3,
       "column_count": 3,
       "columns": [
        {
         "name": "cms_prescription_counts",
         "dtype": "object",
         "stats": {
          "unique_count": 3,
          "nan_count": 0,
          "categories": [
           {
            "name": "{'DOXAZOSIN MESYLATE': 26, 'MIDODRINE HCL': 12, 'MEGESTROL ACETATE': 11, 'BENAZEPRIL HCL': 11, 'METOLAZONE': 73, 'NOVOLOG': 12, 'DIAZEPAM': 24, 'HYDRALAZINE HCL': 50, 'SENSIPAR': 94, 'LABETALOL HCL': 28, 'PREDNISONE': 40, 'CALCITRIOL': 79, 'HYDROCODONE-ACETAMINOPHEN': 64, 'HYDROCHLOROTHIAZIDE': 59, 'LOSARTAN-HYDROCHLOROTHIAZIDE': 14, 'FENOFIBRATE': 14, 'MINOXIDIL': 14, 'MELOXICAM': 29, 'ATENOLOL': 62, 'CARISOPRODOL': 40, 'GABAPENTIN': 35, 'OMEPRAZOLE': 35, 'KLOR-CON M10': 20, 'LANTUS': 20, 'AMLODIPINE BESYLATE': 175, 'CARVEDILOL': 36, 'LOSARTAN POTASSIUM': 41, 'IRBESARTAN': 11, 'NIFEDICAL XL': 32, 'NIFEDIPINE ER': 51, 'LEVOTHYROXINE SODIUM': 12, 'POTASSIUM CHLORIDE': 30, 'FUROSEMIDE': 162, 'GLYBURIDE': 16, 'CLONIDINE HCL': 43, 'TEMAZEPAM': 41, 'SPIRONOLACTONE': 50, 'LOVASTATIN': 11, 'LISINOPRIL': 44, 'PANTOPRAZOLE SODIUM': 13, 'CALCIUM ACETATE': 85, 'NEXIUM': 44, 'ZOLPIDEM TARTRATE': 41, 'DIOVAN': 20, 'OXYCODONE HCL': 51, 'METOPROLOL SUCCINATE': 104, 'RANITIDINE HCL': 21, 'ATORVASTATIN CALCIUM': 19, 'TAMSULOSIN HCL': 14, 'OXYBUTYNIN CHLORIDE': 11, 'LISINOPRIL-HYDROCHLOROTHIAZIDE': 19, 'METOPROLOL TARTRATE': 93, 'AMLODIPINE BESYLATE-BENAZEPRIL': 12, 'BUMETANIDE': 53, 'BYSTOLIC': 14, 'ISOSORBIDE MONONITRATE ER': 13, 'ALLOPURINOL': 86, 'CLOPIDOGREL': 22, 'RENVELA': 117, 'ABILIFY': 11, 'SERTRALINE HCL': 14, 'CIPROFLOXACIN HCL': 19, 'SIMVASTATIN': 14, 'PRAVASTATIN SODIUM': 13, 'ATENOLOL-CHLORTHALIDONE': 53, 'ALPRAZOLAM': 45, 'AZITHROMYCIN': 18, 'TRAMADOL HCL': 11}",
            "count": 1
           },
           {
            "name": "{'CEPHALEXIN': 23, 'AMOXICILLIN': 52, 'HYDROCODONE-ACETAMINOPHEN': 28}",
            "count": 1
           },
           {
            "name": "{'CEPHALEXIN': 28, 'AMOXICILLIN': 73, 'CLINDAMYCIN HCL': 11}",
            "count": 1
           }
          ]
         }
        },
        {
         "name": "provider_variables",
         "dtype": "object",
         "stats": {
          "unique_count": 3,
          "nan_count": 0,
          "categories": [
           {
            "name": "{'settlement_type': 'non-urban', 'generic_rx_count': 2287, 'specialty': 'Nephrology', 'years_practicing': 7, 'gender': 'M', 'region': 'South', 'brand_name_rx_count': 384}",
            "count": 1
           },
           {
            "name": "{'settlement_type': 'non-urban', 'generic_rx_count': 103, 'specialty': 'General Practice', 'years_practicing': 7, 'gender': 'M', 'region': 'South', 'brand_name_rx_count': 0}",
            "count": 1
           },
           {
            "name": "{'settlement_type': 'non-urban', 'generic_rx_count': 112, 'specialty': 'General Practice', 'years_practicing': 7, 'gender': 'M', 'region': 'Midwest', 'brand_name_rx_count': 0}",
            "count": 1
           }
          ]
         }
        },
        {
         "name": "npi",
         "dtype": "int64",
         "stats": {
          "unique_count": 3,
          "nan_count": 0,
          "min": 1295763035,
          "max": 1992715205,
          "histogram": [
           {
            "bin_start": 1295763035,
            "bin_end": 1365458252,
            "count": 1
           },
           {
            "bin_start": 1365458252,
            "bin_end": 1435153469,
            "count": 0
           },
           {
            "bin_start": 1435153469,
            "bin_end": 1504848686,
            "count": 0
           },
           {
            "bin_start": 1504848686,
            "bin_end": 1574543903,
            "count": 0
           },
           {
            "bin_start": 1574543903,
            "bin_end": 1644239120,
            "count": 1
           },
           {
            "bin_start": 1644239120,
            "bin_end": 1713934337,
            "count": 0
           },
           {
            "bin_start": 1713934337,
            "bin_end": 1783629554,
            "count": 0
           },
           {
            "bin_start": 1783629554,
            "bin_end": 1853324771,
            "count": 0
           },
           {
            "bin_start": 1853324771,
            "bin_end": 1923019988,
            "count": 0
           },
           {
            "bin_start": 1923019988,
            "bin_end": 1992715205,
            "count": 1
           }
          ]
         }
        },
        {
         "name": "_deepnote_index_column",
         "dtype": "int64"
        }
       ],
       "rows_top": [
        {
         "cms_prescription_counts": "{'DOXAZOSIN MESYLATE': 26, 'MIDODRINE HCL': 12, 'MEGESTROL ACETATE': 11, 'BENAZEPRIL HCL': 11, 'METOLAZONE': 73, 'NOVOLOG': 12, 'DIAZEPAM': 24, 'HYDRALAZINE HCL': 50, 'SENSIPAR': 94, 'LABETALOL HCL': 28, 'PREDNISONE': 40, 'CALCITRIOL': 79, 'HYDROCODONE-ACETAMINOPHEN': 64, 'HYDROCHLOROTHIAZIDE': 59, 'LOSARTAN-HYDROCHLOROTHIAZIDE': 14, 'FENOFIBRATE': 14, 'MINOXIDIL': 14, 'MELOXICAM': 29, 'ATENOLOL': 62, 'CARISOPRODOL': 40, 'GABAPENTIN': 35, 'OMEPRAZOLE': 35, 'KLOR-CON M10': 20, 'LANTUS': 20, 'AMLODIPINE BESYLATE': 175, 'CARVEDILOL': 36, 'LOSARTAN POTASSIUM': 41, 'IRBESARTAN': 11, 'NIFEDICAL XL': 32, 'NIFEDIPINE ER': 51, 'LEVOTHYROXINE SODIUM': 12, 'POTASSIUM CHLORIDE': 30, 'FUROSEMIDE': 162, 'GLYBURIDE': 16, 'CLONIDINE HCL': 43, 'TEMAZEPAM': 41, 'SPIRONOLACTONE': 50, 'LOVASTATIN': 11, 'LISINOPRIL': 44, 'PANTOPRAZOLE SODIUM': 13, 'CALCIUM ACETATE': 85, 'NEXIUM': 44, 'ZOLPIDEM TARTRATE': 41, 'DIOVAN': 20, 'OXYCODONE HCL': 51, 'METOPROLOL SUCCINATE': 104, 'RANITIDINE HCL': 21, 'ATORVASTATIN CALCIUM': 19, 'TAMSULOSIN HCL': 14, 'OXYBUTYNIN CHLORIDE': 11, 'LISINOPRIL-HYDROCHLOROTHIAZIDE': 19, 'METOPROLOL TARTRATE': 93, 'AMLODIPINE BESYLATE-BENAZEPRIL': 12, 'BUMETANIDE': 53, 'BYSTOLIC': 14, 'ISOSORBIDE MONONITRATE ER': 13, 'ALLOPURINOL': 86, 'CLOPIDOGREL': 22, 'RENVELA': 117, 'ABILIFY': 11, 'SERTRALINE HCL': 14, 'CIPROFLOXACIN HCL': 19, 'SIMVASTATIN': 14, 'PRAVASTATIN SODIUM': 13, 'ATENOLOL-CHLORTHALIDONE': 53, 'ALPRAZOLAM': 45, 'AZITHROMYCIN': 18, 'TRAMADOL HCL': 11}",
         "provider_variables": "{'settlement_type': 'non-urban', 'generic_rx_count': 2287, 'specialty': 'Nephrology', 'years_practicing': 7, 'gender': 'M', 'region': 'South', 'brand_name_rx_count': 384}",
         "npi": 1295763035,
         "_deepnote_index_column": 0
        },
        {
         "cms_prescription_counts": "{'CEPHALEXIN': 23, 'AMOXICILLIN': 52, 'HYDROCODONE-ACETAMINOPHEN': 28}",
         "provider_variables": "{'settlement_type': 'non-urban', 'generic_rx_count': 103, 'specialty': 'General Practice', 'years_practicing': 7, 'gender': 'M', 'region': 'South', 'brand_name_rx_count': 0}",
         "npi": 1992715205,
         "_deepnote_index_column": 1
        },
        {
         "cms_prescription_counts": "{'CEPHALEXIN': 28, 'AMOXICILLIN': 73, 'CLINDAMYCIN HCL': 11}",
         "provider_variables": "{'settlement_type': 'non-urban', 'generic_rx_count': 112, 'specialty': 'General Practice', 'years_practicing': 7, 'gender': 'M', 'region': 'Midwest', 'brand_name_rx_count': 0}",
         "npi": 1578587630,
         "_deepnote_index_column": 2
        }
       ],
       "rows_bottom": null
      },
      "text/plain": "                             cms_prescription_counts  \\\n0  {'DOXAZOSIN MESYLATE': 26, 'MIDODRINE HCL': 12...   \n1  {'CEPHALEXIN': 23, 'AMOXICILLIN': 52, 'HYDROCO...   \n2  {'CEPHALEXIN': 28, 'AMOXICILLIN': 73, 'CLINDAM...   \n\n                                  provider_variables         npi  \n0  {'settlement_type': 'non-urban', 'generic_rx_c...  1295763035  \n1  {'settlement_type': 'non-urban', 'generic_rx_c...  1992715205  \n2  {'settlement_type': 'non-urban', 'generic_rx_c...  1578587630  ",
      "text/html": "<div>\n<style scoped>\n    .dataframe tbody tr th:only-of-type {\n        vertical-align: middle;\n    }\n\n    .dataframe tbody tr th {\n        vertical-align: top;\n    }\n\n    .dataframe thead th {\n        text-align: right;\n    }\n</style>\n<table border=\"1\" class=\"dataframe\">\n  <thead>\n    <tr style=\"text-align: right;\">\n      <th></th>\n      <th>cms_prescription_counts</th>\n      <th>provider_variables</th>\n      <th>npi</th>\n    </tr>\n  </thead>\n  <tbody>\n    <tr>\n      <th>0</th>\n      <td>{'DOXAZOSIN MESYLATE': 26, 'MIDODRINE HCL': 12...</td>\n      <td>{'settlement_type': 'non-urban', 'generic_rx_c...</td>\n      <td>1295763035</td>\n    </tr>\n    <tr>\n      <th>1</th>\n      <td>{'CEPHALEXIN': 23, 'AMOXICILLIN': 52, 'HYDROCO...</td>\n      <td>{'settlement_type': 'non-urban', 'generic_rx_c...</td>\n      <td>1992715205</td>\n    </tr>\n    <tr>\n      <th>2</th>\n      <td>{'CEPHALEXIN': 28, 'AMOXICILLIN': 73, 'CLINDAM...</td>\n      <td>{'settlement_type': 'non-urban', 'generic_rx_c...</td>\n      <td>1578587630</td>\n    </tr>\n  </tbody>\n</table>\n</div>"
     },
     "metadata": {}
    }
   ]
  },
  {
   "cell_type": "markdown",
   "source": [
    "To understand this data a bit better, lets explode both of the `json` variables in the first row. We can use the `pandas` builtin function [`json_normalize`](https://pandas.pydata.org/docs/reference/api/pandas.json_normalize.html) which converts a `json` dictionary into a flat table."
   ],
   "metadata": {
    "tags": [],
    "cell_id": "00006-cf1a6cb0-f40c-4921-83e0-9b5782b9f39f",
    "deepnote_cell_type": "markdown"
   }
  },
  {
   "cell_type": "code",
   "metadata": {
    "tags": [],
    "cell_id": "00007-7616ab34-a39f-40da-9ba8-0322b56faa71",
    "deepnote_to_be_reexecuted": false,
    "source_hash": "1d0e9fdd",
    "execution_millis": 244,
    "execution_start": 1617968800819,
    "deepnote_cell_type": "code"
   },
   "source": [
    "json_normalize(df.iloc[0].cms_prescription_counts)"
   ],
   "execution_count": null,
   "outputs": [
    {
     "output_type": "execute_result",
     "execution_count": 6,
     "data": {
      "application/vnd.deepnote.dataframe.v2+json": {
       "row_count": 1,
       "column_count": 68,
       "columns": [
        {
         "name": "DOXAZOSIN MESYLATE",
         "dtype": "int64",
         "stats": {
          "unique_count": 1,
          "nan_count": 0,
          "min": 26,
          "max": 26,
          "histogram": [
           {
            "bin_start": 25.5,
            "bin_end": 25.6,
            "count": 0
           },
           {
            "bin_start": 25.6,
            "bin_end": 25.7,
            "count": 0
           },
           {
            "bin_start": 25.7,
            "bin_end": 25.8,
            "count": 0
           },
           {
            "bin_start": 25.8,
            "bin_end": 25.9,
            "count": 0
           },
           {
            "bin_start": 25.9,
            "bin_end": 26,
            "count": 0
           },
           {
            "bin_start": 26,
            "bin_end": 26.1,
            "count": 1
           },
           {
            "bin_start": 26.1,
            "bin_end": 26.2,
            "count": 0
           },
           {
            "bin_start": 26.2,
            "bin_end": 26.3,
            "count": 0
           },
           {
            "bin_start": 26.3,
            "bin_end": 26.4,
            "count": 0
           },
           {
            "bin_start": 26.4,
            "bin_end": 26.5,
            "count": 0
           }
          ]
         }
        },
        {
         "name": "MIDODRINE HCL",
         "dtype": "int64",
         "stats": {
          "unique_count": 1,
          "nan_count": 0,
          "min": 12,
          "max": 12,
          "histogram": [
           {
            "bin_start": 11.5,
            "bin_end": 11.6,
            "count": 0
           },
           {
            "bin_start": 11.6,
            "bin_end": 11.7,
            "count": 0
           },
           {
            "bin_start": 11.7,
            "bin_end": 11.8,
            "count": 0
           },
           {
            "bin_start": 11.8,
            "bin_end": 11.9,
            "count": 0
           },
           {
            "bin_start": 11.9,
            "bin_end": 12,
            "count": 0
           },
           {
            "bin_start": 12,
            "bin_end": 12.1,
            "count": 1
           },
           {
            "bin_start": 12.1,
            "bin_end": 12.2,
            "count": 0
           },
           {
            "bin_start": 12.2,
            "bin_end": 12.3,
            "count": 0
           },
           {
            "bin_start": 12.3,
            "bin_end": 12.4,
            "count": 0
           },
           {
            "bin_start": 12.4,
            "bin_end": 12.5,
            "count": 0
           }
          ]
         }
        },
        {
         "name": "MEGESTROL ACETATE",
         "dtype": "int64",
         "stats": {
          "unique_count": 1,
          "nan_count": 0,
          "min": 11,
          "max": 11,
          "histogram": [
           {
            "bin_start": 10.5,
            "bin_end": 10.6,
            "count": 0
           },
           {
            "bin_start": 10.6,
            "bin_end": 10.7,
            "count": 0
           },
           {
            "bin_start": 10.7,
            "bin_end": 10.8,
            "count": 0
           },
           {
            "bin_start": 10.8,
            "bin_end": 10.9,
            "count": 0
           },
           {
            "bin_start": 10.9,
            "bin_end": 11,
            "count": 0
           },
           {
            "bin_start": 11,
            "bin_end": 11.1,
            "count": 1
           },
           {
            "bin_start": 11.1,
            "bin_end": 11.2,
            "count": 0
           },
           {
            "bin_start": 11.2,
            "bin_end": 11.3,
            "count": 0
           },
           {
            "bin_start": 11.3,
            "bin_end": 11.4,
            "count": 0
           },
           {
            "bin_start": 11.4,
            "bin_end": 11.5,
            "count": 0
           }
          ]
         }
        },
        {
         "name": "BENAZEPRIL HCL",
         "dtype": "int64",
         "stats": {
          "unique_count": 1,
          "nan_count": 0,
          "min": 11,
          "max": 11,
          "histogram": [
           {
            "bin_start": 10.5,
            "bin_end": 10.6,
            "count": 0
           },
           {
            "bin_start": 10.6,
            "bin_end": 10.7,
            "count": 0
           },
           {
            "bin_start": 10.7,
            "bin_end": 10.8,
            "count": 0
           },
           {
            "bin_start": 10.8,
            "bin_end": 10.9,
            "count": 0
           },
           {
            "bin_start": 10.9,
            "bin_end": 11,
            "count": 0
           },
           {
            "bin_start": 11,
            "bin_end": 11.1,
            "count": 1
           },
           {
            "bin_start": 11.1,
            "bin_end": 11.2,
            "count": 0
           },
           {
            "bin_start": 11.2,
            "bin_end": 11.3,
            "count": 0
           },
           {
            "bin_start": 11.3,
            "bin_end": 11.4,
            "count": 0
           },
           {
            "bin_start": 11.4,
            "bin_end": 11.5,
            "count": 0
           }
          ]
         }
        },
        {
         "name": "METOLAZONE",
         "dtype": "int64",
         "stats": {
          "unique_count": 1,
          "nan_count": 0,
          "min": 73,
          "max": 73,
          "histogram": [
           {
            "bin_start": 72.5,
            "bin_end": 72.6,
            "count": 0
           },
           {
            "bin_start": 72.6,
            "bin_end": 72.7,
            "count": 0
           },
           {
            "bin_start": 72.7,
            "bin_end": 72.8,
            "count": 0
           },
           {
            "bin_start": 72.8,
            "bin_end": 72.9,
            "count": 0
           },
           {
            "bin_start": 72.9,
            "bin_end": 73,
            "count": 0
           },
           {
            "bin_start": 73,
            "bin_end": 73.1,
            "count": 1
           },
           {
            "bin_start": 73.1,
            "bin_end": 73.2,
            "count": 0
           },
           {
            "bin_start": 73.2,
            "bin_end": 73.3,
            "count": 0
           },
           {
            "bin_start": 73.3,
            "bin_end": 73.4,
            "count": 0
           },
           {
            "bin_start": 73.4,
            "bin_end": 73.5,
            "count": 0
           }
          ]
         }
        },
        {
         "name": "NOVOLOG",
         "dtype": "int64",
         "stats": {
          "unique_count": 1,
          "nan_count": 0,
          "min": 12,
          "max": 12,
          "histogram": [
           {
            "bin_start": 11.5,
            "bin_end": 11.6,
            "count": 0
           },
           {
            "bin_start": 11.6,
            "bin_end": 11.7,
            "count": 0
           },
           {
            "bin_start": 11.7,
            "bin_end": 11.8,
            "count": 0
           },
           {
            "bin_start": 11.8,
            "bin_end": 11.9,
            "count": 0
           },
           {
            "bin_start": 11.9,
            "bin_end": 12,
            "count": 0
           },
           {
            "bin_start": 12,
            "bin_end": 12.1,
            "count": 1
           },
           {
            "bin_start": 12.1,
            "bin_end": 12.2,
            "count": 0
           },
           {
            "bin_start": 12.2,
            "bin_end": 12.3,
            "count": 0
           },
           {
            "bin_start": 12.3,
            "bin_end": 12.4,
            "count": 0
           },
           {
            "bin_start": 12.4,
            "bin_end": 12.5,
            "count": 0
           }
          ]
         }
        },
        {
         "name": "DIAZEPAM",
         "dtype": "int64",
         "stats": {
          "unique_count": 1,
          "nan_count": 0,
          "min": 24,
          "max": 24,
          "histogram": [
           {
            "bin_start": 23.5,
            "bin_end": 23.6,
            "count": 0
           },
           {
            "bin_start": 23.6,
            "bin_end": 23.7,
            "count": 0
           },
           {
            "bin_start": 23.7,
            "bin_end": 23.8,
            "count": 0
           },
           {
            "bin_start": 23.8,
            "bin_end": 23.9,
            "count": 0
           },
           {
            "bin_start": 23.9,
            "bin_end": 24,
            "count": 0
           },
           {
            "bin_start": 24,
            "bin_end": 24.1,
            "count": 1
           },
           {
            "bin_start": 24.1,
            "bin_end": 24.2,
            "count": 0
           },
           {
            "bin_start": 24.2,
            "bin_end": 24.3,
            "count": 0
           },
           {
            "bin_start": 24.3,
            "bin_end": 24.4,
            "count": 0
           },
           {
            "bin_start": 24.4,
            "bin_end": 24.5,
            "count": 0
           }
          ]
         }
        },
        {
         "name": "HYDRALAZINE HCL",
         "dtype": "int64",
         "stats": {
          "unique_count": 1,
          "nan_count": 0,
          "min": 50,
          "max": 50,
          "histogram": [
           {
            "bin_start": 49.5,
            "bin_end": 49.6,
            "count": 0
           },
           {
            "bin_start": 49.6,
            "bin_end": 49.7,
            "count": 0
           },
           {
            "bin_start": 49.7,
            "bin_end": 49.8,
            "count": 0
           },
           {
            "bin_start": 49.8,
            "bin_end": 49.9,
            "count": 0
           },
           {
            "bin_start": 49.9,
            "bin_end": 50,
            "count": 0
           },
           {
            "bin_start": 50,
            "bin_end": 50.1,
            "count": 1
           },
           {
            "bin_start": 50.1,
            "bin_end": 50.2,
            "count": 0
           },
           {
            "bin_start": 50.2,
            "bin_end": 50.3,
            "count": 0
           },
           {
            "bin_start": 50.3,
            "bin_end": 50.4,
            "count": 0
           },
           {
            "bin_start": 50.4,
            "bin_end": 50.5,
            "count": 0
           }
          ]
         }
        },
        {
         "name": "SENSIPAR",
         "dtype": "int64",
         "stats": {
          "unique_count": 1,
          "nan_count": 0,
          "min": 94,
          "max": 94,
          "histogram": [
           {
            "bin_start": 93.5,
            "bin_end": 93.6,
            "count": 0
           },
           {
            "bin_start": 93.6,
            "bin_end": 93.7,
            "count": 0
           },
           {
            "bin_start": 93.7,
            "bin_end": 93.8,
            "count": 0
           },
           {
            "bin_start": 93.8,
            "bin_end": 93.9,
            "count": 0
           },
           {
            "bin_start": 93.9,
            "bin_end": 94,
            "count": 0
           },
           {
            "bin_start": 94,
            "bin_end": 94.1,
            "count": 1
           },
           {
            "bin_start": 94.1,
            "bin_end": 94.2,
            "count": 0
           },
           {
            "bin_start": 94.2,
            "bin_end": 94.3,
            "count": 0
           },
           {
            "bin_start": 94.3,
            "bin_end": 94.4,
            "count": 0
           },
           {
            "bin_start": 94.4,
            "bin_end": 94.5,
            "count": 0
           }
          ]
         }
        },
        {
         "name": "LABETALOL HCL",
         "dtype": "int64",
         "stats": {
          "unique_count": 1,
          "nan_count": 0,
          "min": 28,
          "max": 28,
          "histogram": [
           {
            "bin_start": 27.5,
            "bin_end": 27.6,
            "count": 0
           },
           {
            "bin_start": 27.6,
            "bin_end": 27.7,
            "count": 0
           },
           {
            "bin_start": 27.7,
            "bin_end": 27.8,
            "count": 0
           },
           {
            "bin_start": 27.8,
            "bin_end": 27.9,
            "count": 0
           },
           {
            "bin_start": 27.9,
            "bin_end": 28,
            "count": 0
           },
           {
            "bin_start": 28,
            "bin_end": 28.1,
            "count": 1
           },
           {
            "bin_start": 28.1,
            "bin_end": 28.2,
            "count": 0
           },
           {
            "bin_start": 28.2,
            "bin_end": 28.3,
            "count": 0
           },
           {
            "bin_start": 28.3,
            "bin_end": 28.4,
            "count": 0
           },
           {
            "bin_start": 28.4,
            "bin_end": 28.5,
            "count": 0
           }
          ]
         }
        },
        {
         "name": "PREDNISONE",
         "dtype": "int64",
         "stats": {
          "unique_count": 1,
          "nan_count": 0,
          "min": 40,
          "max": 40,
          "histogram": [
           {
            "bin_start": 39.5,
            "bin_end": 39.6,
            "count": 0
           },
           {
            "bin_start": 39.6,
            "bin_end": 39.7,
            "count": 0
           },
           {
            "bin_start": 39.7,
            "bin_end": 39.8,
            "count": 0
           },
           {
            "bin_start": 39.8,
            "bin_end": 39.9,
            "count": 0
           },
           {
            "bin_start": 39.9,
            "bin_end": 40,
            "count": 0
           },
           {
            "bin_start": 40,
            "bin_end": 40.1,
            "count": 1
           },
           {
            "bin_start": 40.1,
            "bin_end": 40.2,
            "count": 0
           },
           {
            "bin_start": 40.2,
            "bin_end": 40.3,
            "count": 0
           },
           {
            "bin_start": 40.3,
            "bin_end": 40.4,
            "count": 0
           },
           {
            "bin_start": 40.4,
            "bin_end": 40.5,
            "count": 0
           }
          ]
         }
        },
        {
         "name": "CALCITRIOL",
         "dtype": "int64",
         "stats": {
          "unique_count": 1,
          "nan_count": 0,
          "min": 79,
          "max": 79,
          "histogram": [
           {
            "bin_start": 78.5,
            "bin_end": 78.6,
            "count": 0
           },
           {
            "bin_start": 78.6,
            "bin_end": 78.7,
            "count": 0
           },
           {
            "bin_start": 78.7,
            "bin_end": 78.8,
            "count": 0
           },
           {
            "bin_start": 78.8,
            "bin_end": 78.9,
            "count": 0
           },
           {
            "bin_start": 78.9,
            "bin_end": 79,
            "count": 0
           },
           {
            "bin_start": 79,
            "bin_end": 79.1,
            "count": 1
           },
           {
            "bin_start": 79.1,
            "bin_end": 79.2,
            "count": 0
           },
           {
            "bin_start": 79.2,
            "bin_end": 79.3,
            "count": 0
           },
           {
            "bin_start": 79.3,
            "bin_end": 79.4,
            "count": 0
           },
           {
            "bin_start": 79.4,
            "bin_end": 79.5,
            "count": 0
           }
          ]
         }
        },
        {
         "name": "HYDROCODONE-ACETAMINOPHEN",
         "dtype": "int64",
         "stats": {
          "unique_count": 1,
          "nan_count": 0,
          "min": 64,
          "max": 64,
          "histogram": [
           {
            "bin_start": 63.5,
            "bin_end": 63.6,
            "count": 0
           },
           {
            "bin_start": 63.6,
            "bin_end": 63.7,
            "count": 0
           },
           {
            "bin_start": 63.7,
            "bin_end": 63.8,
            "count": 0
           },
           {
            "bin_start": 63.8,
            "bin_end": 63.9,
            "count": 0
           },
           {
            "bin_start": 63.9,
            "bin_end": 64,
            "count": 0
           },
           {
            "bin_start": 64,
            "bin_end": 64.1,
            "count": 1
           },
           {
            "bin_start": 64.1,
            "bin_end": 64.2,
            "count": 0
           },
           {
            "bin_start": 64.2,
            "bin_end": 64.3,
            "count": 0
           },
           {
            "bin_start": 64.3,
            "bin_end": 64.4,
            "count": 0
           },
           {
            "bin_start": 64.4,
            "bin_end": 64.5,
            "count": 0
           }
          ]
         }
        },
        {
         "name": "HYDROCHLOROTHIAZIDE",
         "dtype": "int64",
         "stats": {
          "unique_count": 1,
          "nan_count": 0,
          "min": 59,
          "max": 59,
          "histogram": [
           {
            "bin_start": 58.5,
            "bin_end": 58.6,
            "count": 0
           },
           {
            "bin_start": 58.6,
            "bin_end": 58.7,
            "count": 0
           },
           {
            "bin_start": 58.7,
            "bin_end": 58.8,
            "count": 0
           },
           {
            "bin_start": 58.8,
            "bin_end": 58.9,
            "count": 0
           },
           {
            "bin_start": 58.9,
            "bin_end": 59,
            "count": 0
           },
           {
            "bin_start": 59,
            "bin_end": 59.1,
            "count": 1
           },
           {
            "bin_start": 59.1,
            "bin_end": 59.2,
            "count": 0
           },
           {
            "bin_start": 59.2,
            "bin_end": 59.3,
            "count": 0
           },
           {
            "bin_start": 59.3,
            "bin_end": 59.4,
            "count": 0
           },
           {
            "bin_start": 59.4,
            "bin_end": 59.5,
            "count": 0
           }
          ]
         }
        },
        {
         "name": "LOSARTAN-HYDROCHLOROTHIAZIDE",
         "dtype": "int64",
         "stats": {
          "unique_count": 1,
          "nan_count": 0,
          "min": 14,
          "max": 14,
          "histogram": [
           {
            "bin_start": 13.5,
            "bin_end": 13.6,
            "count": 0
           },
           {
            "bin_start": 13.6,
            "bin_end": 13.7,
            "count": 0
           },
           {
            "bin_start": 13.7,
            "bin_end": 13.8,
            "count": 0
           },
           {
            "bin_start": 13.8,
            "bin_end": 13.9,
            "count": 0
           },
           {
            "bin_start": 13.9,
            "bin_end": 14,
            "count": 0
           },
           {
            "bin_start": 14,
            "bin_end": 14.1,
            "count": 1
           },
           {
            "bin_start": 14.1,
            "bin_end": 14.2,
            "count": 0
           },
           {
            "bin_start": 14.2,
            "bin_end": 14.3,
            "count": 0
           },
           {
            "bin_start": 14.3,
            "bin_end": 14.4,
            "count": 0
           },
           {
            "bin_start": 14.4,
            "bin_end": 14.5,
            "count": 0
           }
          ]
         }
        },
        {
         "name": "FENOFIBRATE",
         "dtype": "int64",
         "stats": {
          "unique_count": 1,
          "nan_count": 0,
          "min": 14,
          "max": 14,
          "histogram": [
           {
            "bin_start": 13.5,
            "bin_end": 13.6,
            "count": 0
           },
           {
            "bin_start": 13.6,
            "bin_end": 13.7,
            "count": 0
           },
           {
            "bin_start": 13.7,
            "bin_end": 13.8,
            "count": 0
           },
           {
            "bin_start": 13.8,
            "bin_end": 13.9,
            "count": 0
           },
           {
            "bin_start": 13.9,
            "bin_end": 14,
            "count": 0
           },
           {
            "bin_start": 14,
            "bin_end": 14.1,
            "count": 1
           },
           {
            "bin_start": 14.1,
            "bin_end": 14.2,
            "count": 0
           },
           {
            "bin_start": 14.2,
            "bin_end": 14.3,
            "count": 0
           },
           {
            "bin_start": 14.3,
            "bin_end": 14.4,
            "count": 0
           },
           {
            "bin_start": 14.4,
            "bin_end": 14.5,
            "count": 0
           }
          ]
         }
        },
        {
         "name": "MINOXIDIL",
         "dtype": "int64",
         "stats": {
          "unique_count": 1,
          "nan_count": 0,
          "min": 14,
          "max": 14,
          "histogram": [
           {
            "bin_start": 13.5,
            "bin_end": 13.6,
            "count": 0
           },
           {
            "bin_start": 13.6,
            "bin_end": 13.7,
            "count": 0
           },
           {
            "bin_start": 13.7,
            "bin_end": 13.8,
            "count": 0
           },
           {
            "bin_start": 13.8,
            "bin_end": 13.9,
            "count": 0
           },
           {
            "bin_start": 13.9,
            "bin_end": 14,
            "count": 0
           },
           {
            "bin_start": 14,
            "bin_end": 14.1,
            "count": 1
           },
           {
            "bin_start": 14.1,
            "bin_end": 14.2,
            "count": 0
           },
           {
            "bin_start": 14.2,
            "bin_end": 14.3,
            "count": 0
           },
           {
            "bin_start": 14.3,
            "bin_end": 14.4,
            "count": 0
           },
           {
            "bin_start": 14.4,
            "bin_end": 14.5,
            "count": 0
           }
          ]
         }
        },
        {
         "name": "MELOXICAM",
         "dtype": "int64",
         "stats": {
          "unique_count": 1,
          "nan_count": 0,
          "min": 29,
          "max": 29,
          "histogram": [
           {
            "bin_start": 28.5,
            "bin_end": 28.6,
            "count": 0
           },
           {
            "bin_start": 28.6,
            "bin_end": 28.7,
            "count": 0
           },
           {
            "bin_start": 28.7,
            "bin_end": 28.8,
            "count": 0
           },
           {
            "bin_start": 28.8,
            "bin_end": 28.9,
            "count": 0
           },
           {
            "bin_start": 28.9,
            "bin_end": 29,
            "count": 0
           },
           {
            "bin_start": 29,
            "bin_end": 29.1,
            "count": 1
           },
           {
            "bin_start": 29.1,
            "bin_end": 29.2,
            "count": 0
           },
           {
            "bin_start": 29.2,
            "bin_end": 29.3,
            "count": 0
           },
           {
            "bin_start": 29.3,
            "bin_end": 29.4,
            "count": 0
           },
           {
            "bin_start": 29.4,
            "bin_end": 29.5,
            "count": 0
           }
          ]
         }
        },
        {
         "name": "ATENOLOL",
         "dtype": "int64",
         "stats": {
          "unique_count": 1,
          "nan_count": 0,
          "min": 62,
          "max": 62,
          "histogram": [
           {
            "bin_start": 61.5,
            "bin_end": 61.6,
            "count": 0
           },
           {
            "bin_start": 61.6,
            "bin_end": 61.7,
            "count": 0
           },
           {
            "bin_start": 61.7,
            "bin_end": 61.8,
            "count": 0
           },
           {
            "bin_start": 61.8,
            "bin_end": 61.9,
            "count": 0
           },
           {
            "bin_start": 61.9,
            "bin_end": 62,
            "count": 0
           },
           {
            "bin_start": 62,
            "bin_end": 62.1,
            "count": 1
           },
           {
            "bin_start": 62.1,
            "bin_end": 62.2,
            "count": 0
           },
           {
            "bin_start": 62.2,
            "bin_end": 62.3,
            "count": 0
           },
           {
            "bin_start": 62.3,
            "bin_end": 62.4,
            "count": 0
           },
           {
            "bin_start": 62.4,
            "bin_end": 62.5,
            "count": 0
           }
          ]
         }
        },
        {
         "name": "CARISOPRODOL",
         "dtype": "int64",
         "stats": {
          "unique_count": 1,
          "nan_count": 0,
          "min": 40,
          "max": 40,
          "histogram": [
           {
            "bin_start": 39.5,
            "bin_end": 39.6,
            "count": 0
           },
           {
            "bin_start": 39.6,
            "bin_end": 39.7,
            "count": 0
           },
           {
            "bin_start": 39.7,
            "bin_end": 39.8,
            "count": 0
           },
           {
            "bin_start": 39.8,
            "bin_end": 39.9,
            "count": 0
           },
           {
            "bin_start": 39.9,
            "bin_end": 40,
            "count": 0
           },
           {
            "bin_start": 40,
            "bin_end": 40.1,
            "count": 1
           },
           {
            "bin_start": 40.1,
            "bin_end": 40.2,
            "count": 0
           },
           {
            "bin_start": 40.2,
            "bin_end": 40.3,
            "count": 0
           },
           {
            "bin_start": 40.3,
            "bin_end": 40.4,
            "count": 0
           },
           {
            "bin_start": 40.4,
            "bin_end": 40.5,
            "count": 0
           }
          ]
         }
        },
        {
         "name": "GABAPENTIN",
         "dtype": "int64",
         "stats": {
          "unique_count": 1,
          "nan_count": 0,
          "min": 35,
          "max": 35,
          "histogram": [
           {
            "bin_start": 34.5,
            "bin_end": 34.6,
            "count": 0
           },
           {
            "bin_start": 34.6,
            "bin_end": 34.7,
            "count": 0
           },
           {
            "bin_start": 34.7,
            "bin_end": 34.8,
            "count": 0
           },
           {
            "bin_start": 34.8,
            "bin_end": 34.9,
            "count": 0
           },
           {
            "bin_start": 34.9,
            "bin_end": 35,
            "count": 0
           },
           {
            "bin_start": 35,
            "bin_end": 35.1,
            "count": 1
           },
           {
            "bin_start": 35.1,
            "bin_end": 35.2,
            "count": 0
           },
           {
            "bin_start": 35.2,
            "bin_end": 35.3,
            "count": 0
           },
           {
            "bin_start": 35.3,
            "bin_end": 35.4,
            "count": 0
           },
           {
            "bin_start": 35.4,
            "bin_end": 35.5,
            "count": 0
           }
          ]
         }
        },
        {
         "name": "OMEPRAZOLE",
         "dtype": "int64",
         "stats": {
          "unique_count": 1,
          "nan_count": 0,
          "min": 35,
          "max": 35,
          "histogram": [
           {
            "bin_start": 34.5,
            "bin_end": 34.6,
            "count": 0
           },
           {
            "bin_start": 34.6,
            "bin_end": 34.7,
            "count": 0
           },
           {
            "bin_start": 34.7,
            "bin_end": 34.8,
            "count": 0
           },
           {
            "bin_start": 34.8,
            "bin_end": 34.9,
            "count": 0
           },
           {
            "bin_start": 34.9,
            "bin_end": 35,
            "count": 0
           },
           {
            "bin_start": 35,
            "bin_end": 35.1,
            "count": 1
           },
           {
            "bin_start": 35.1,
            "bin_end": 35.2,
            "count": 0
           },
           {
            "bin_start": 35.2,
            "bin_end": 35.3,
            "count": 0
           },
           {
            "bin_start": 35.3,
            "bin_end": 35.4,
            "count": 0
           },
           {
            "bin_start": 35.4,
            "bin_end": 35.5,
            "count": 0
           }
          ]
         }
        },
        {
         "name": "KLOR-CON M10",
         "dtype": "int64",
         "stats": {
          "unique_count": 1,
          "nan_count": 0,
          "min": 20,
          "max": 20,
          "histogram": [
           {
            "bin_start": 19.5,
            "bin_end": 19.6,
            "count": 0
           },
           {
            "bin_start": 19.6,
            "bin_end": 19.7,
            "count": 0
           },
           {
            "bin_start": 19.7,
            "bin_end": 19.8,
            "count": 0
           },
           {
            "bin_start": 19.8,
            "bin_end": 19.9,
            "count": 0
           },
           {
            "bin_start": 19.9,
            "bin_end": 20,
            "count": 0
           },
           {
            "bin_start": 20,
            "bin_end": 20.1,
            "count": 1
           },
           {
            "bin_start": 20.1,
            "bin_end": 20.2,
            "count": 0
           },
           {
            "bin_start": 20.2,
            "bin_end": 20.3,
            "count": 0
           },
           {
            "bin_start": 20.3,
            "bin_end": 20.4,
            "count": 0
           },
           {
            "bin_start": 20.4,
            "bin_end": 20.5,
            "count": 0
           }
          ]
         }
        },
        {
         "name": "LANTUS",
         "dtype": "int64",
         "stats": {
          "unique_count": 1,
          "nan_count": 0,
          "min": 20,
          "max": 20,
          "histogram": [
           {
            "bin_start": 19.5,
            "bin_end": 19.6,
            "count": 0
           },
           {
            "bin_start": 19.6,
            "bin_end": 19.7,
            "count": 0
           },
           {
            "bin_start": 19.7,
            "bin_end": 19.8,
            "count": 0
           },
           {
            "bin_start": 19.8,
            "bin_end": 19.9,
            "count": 0
           },
           {
            "bin_start": 19.9,
            "bin_end": 20,
            "count": 0
           },
           {
            "bin_start": 20,
            "bin_end": 20.1,
            "count": 1
           },
           {
            "bin_start": 20.1,
            "bin_end": 20.2,
            "count": 0
           },
           {
            "bin_start": 20.2,
            "bin_end": 20.3,
            "count": 0
           },
           {
            "bin_start": 20.3,
            "bin_end": 20.4,
            "count": 0
           },
           {
            "bin_start": 20.4,
            "bin_end": 20.5,
            "count": 0
           }
          ]
         }
        },
        {
         "name": "AMLODIPINE BESYLATE",
         "dtype": "int64",
         "stats": {
          "unique_count": 1,
          "nan_count": 0,
          "min": 175,
          "max": 175,
          "histogram": [
           {
            "bin_start": 174.5,
            "bin_end": 174.6,
            "count": 0
           },
           {
            "bin_start": 174.6,
            "bin_end": 174.7,
            "count": 0
           },
           {
            "bin_start": 174.7,
            "bin_end": 174.8,
            "count": 0
           },
           {
            "bin_start": 174.8,
            "bin_end": 174.9,
            "count": 0
           },
           {
            "bin_start": 174.9,
            "bin_end": 175,
            "count": 0
           },
           {
            "bin_start": 175,
            "bin_end": 175.1,
            "count": 1
           },
           {
            "bin_start": 175.1,
            "bin_end": 175.2,
            "count": 0
           },
           {
            "bin_start": 175.2,
            "bin_end": 175.3,
            "count": 0
           },
           {
            "bin_start": 175.3,
            "bin_end": 175.4,
            "count": 0
           },
           {
            "bin_start": 175.4,
            "bin_end": 175.5,
            "count": 0
           }
          ]
         }
        },
        {
         "name": "CARVEDILOL",
         "dtype": "int64",
         "stats": {
          "unique_count": 1,
          "nan_count": 0,
          "min": 36,
          "max": 36,
          "histogram": [
           {
            "bin_start": 35.5,
            "bin_end": 35.6,
            "count": 0
           },
           {
            "bin_start": 35.6,
            "bin_end": 35.7,
            "count": 0
           },
           {
            "bin_start": 35.7,
            "bin_end": 35.8,
            "count": 0
           },
           {
            "bin_start": 35.8,
            "bin_end": 35.9,
            "count": 0
           },
           {
            "bin_start": 35.9,
            "bin_end": 36,
            "count": 0
           },
           {
            "bin_start": 36,
            "bin_end": 36.1,
            "count": 1
           },
           {
            "bin_start": 36.1,
            "bin_end": 36.2,
            "count": 0
           },
           {
            "bin_start": 36.2,
            "bin_end": 36.3,
            "count": 0
           },
           {
            "bin_start": 36.3,
            "bin_end": 36.4,
            "count": 0
           },
           {
            "bin_start": 36.4,
            "bin_end": 36.5,
            "count": 0
           }
          ]
         }
        },
        {
         "name": "LOSARTAN POTASSIUM",
         "dtype": "int64",
         "stats": {
          "unique_count": 1,
          "nan_count": 0,
          "min": 41,
          "max": 41,
          "histogram": [
           {
            "bin_start": 40.5,
            "bin_end": 40.6,
            "count": 0
           },
           {
            "bin_start": 40.6,
            "bin_end": 40.7,
            "count": 0
           },
           {
            "bin_start": 40.7,
            "bin_end": 40.8,
            "count": 0
           },
           {
            "bin_start": 40.8,
            "bin_end": 40.9,
            "count": 0
           },
           {
            "bin_start": 40.9,
            "bin_end": 41,
            "count": 0
           },
           {
            "bin_start": 41,
            "bin_end": 41.1,
            "count": 1
           },
           {
            "bin_start": 41.1,
            "bin_end": 41.2,
            "count": 0
           },
           {
            "bin_start": 41.2,
            "bin_end": 41.3,
            "count": 0
           },
           {
            "bin_start": 41.3,
            "bin_end": 41.4,
            "count": 0
           },
           {
            "bin_start": 41.4,
            "bin_end": 41.5,
            "count": 0
           }
          ]
         }
        },
        {
         "name": "IRBESARTAN",
         "dtype": "int64",
         "stats": {
          "unique_count": 1,
          "nan_count": 0,
          "min": 11,
          "max": 11,
          "histogram": [
           {
            "bin_start": 10.5,
            "bin_end": 10.6,
            "count": 0
           },
           {
            "bin_start": 10.6,
            "bin_end": 10.7,
            "count": 0
           },
           {
            "bin_start": 10.7,
            "bin_end": 10.8,
            "count": 0
           },
           {
            "bin_start": 10.8,
            "bin_end": 10.9,
            "count": 0
           },
           {
            "bin_start": 10.9,
            "bin_end": 11,
            "count": 0
           },
           {
            "bin_start": 11,
            "bin_end": 11.1,
            "count": 1
           },
           {
            "bin_start": 11.1,
            "bin_end": 11.2,
            "count": 0
           },
           {
            "bin_start": 11.2,
            "bin_end": 11.3,
            "count": 0
           },
           {
            "bin_start": 11.3,
            "bin_end": 11.4,
            "count": 0
           },
           {
            "bin_start": 11.4,
            "bin_end": 11.5,
            "count": 0
           }
          ]
         }
        },
        {
         "name": "NIFEDICAL XL",
         "dtype": "int64",
         "stats": {
          "unique_count": 1,
          "nan_count": 0,
          "min": 32,
          "max": 32,
          "histogram": [
           {
            "bin_start": 31.5,
            "bin_end": 31.6,
            "count": 0
           },
           {
            "bin_start": 31.6,
            "bin_end": 31.7,
            "count": 0
           },
           {
            "bin_start": 31.7,
            "bin_end": 31.8,
            "count": 0
           },
           {
            "bin_start": 31.8,
            "bin_end": 31.9,
            "count": 0
           },
           {
            "bin_start": 31.9,
            "bin_end": 32,
            "count": 0
           },
           {
            "bin_start": 32,
            "bin_end": 32.1,
            "count": 1
           },
           {
            "bin_start": 32.1,
            "bin_end": 32.2,
            "count": 0
           },
           {
            "bin_start": 32.2,
            "bin_end": 32.3,
            "count": 0
           },
           {
            "bin_start": 32.3,
            "bin_end": 32.4,
            "count": 0
           },
           {
            "bin_start": 32.4,
            "bin_end": 32.5,
            "count": 0
           }
          ]
         }
        },
        {
         "name": "NIFEDIPINE ER",
         "dtype": "int64",
         "stats": {
          "unique_count": 1,
          "nan_count": 0,
          "min": 51,
          "max": 51,
          "histogram": [
           {
            "bin_start": 50.5,
            "bin_end": 50.6,
            "count": 0
           },
           {
            "bin_start": 50.6,
            "bin_end": 50.7,
            "count": 0
           },
           {
            "bin_start": 50.7,
            "bin_end": 50.8,
            "count": 0
           },
           {
            "bin_start": 50.8,
            "bin_end": 50.9,
            "count": 0
           },
           {
            "bin_start": 50.9,
            "bin_end": 51,
            "count": 0
           },
           {
            "bin_start": 51,
            "bin_end": 51.1,
            "count": 1
           },
           {
            "bin_start": 51.1,
            "bin_end": 51.2,
            "count": 0
           },
           {
            "bin_start": 51.2,
            "bin_end": 51.3,
            "count": 0
           },
           {
            "bin_start": 51.3,
            "bin_end": 51.4,
            "count": 0
           },
           {
            "bin_start": 51.4,
            "bin_end": 51.5,
            "count": 0
           }
          ]
         }
        },
        {
         "name": "LEVOTHYROXINE SODIUM",
         "dtype": "int64",
         "stats": {
          "unique_count": 1,
          "nan_count": 0,
          "min": 12,
          "max": 12,
          "histogram": [
           {
            "bin_start": 11.5,
            "bin_end": 11.6,
            "count": 0
           },
           {
            "bin_start": 11.6,
            "bin_end": 11.7,
            "count": 0
           },
           {
            "bin_start": 11.7,
            "bin_end": 11.8,
            "count": 0
           },
           {
            "bin_start": 11.8,
            "bin_end": 11.9,
            "count": 0
           },
           {
            "bin_start": 11.9,
            "bin_end": 12,
            "count": 0
           },
           {
            "bin_start": 12,
            "bin_end": 12.1,
            "count": 1
           },
           {
            "bin_start": 12.1,
            "bin_end": 12.2,
            "count": 0
           },
           {
            "bin_start": 12.2,
            "bin_end": 12.3,
            "count": 0
           },
           {
            "bin_start": 12.3,
            "bin_end": 12.4,
            "count": 0
           },
           {
            "bin_start": 12.4,
            "bin_end": 12.5,
            "count": 0
           }
          ]
         }
        },
        {
         "name": "POTASSIUM CHLORIDE",
         "dtype": "int64",
         "stats": {
          "unique_count": 1,
          "nan_count": 0,
          "min": 30,
          "max": 30,
          "histogram": [
           {
            "bin_start": 29.5,
            "bin_end": 29.6,
            "count": 0
           },
           {
            "bin_start": 29.6,
            "bin_end": 29.7,
            "count": 0
           },
           {
            "bin_start": 29.7,
            "bin_end": 29.8,
            "count": 0
           },
           {
            "bin_start": 29.8,
            "bin_end": 29.9,
            "count": 0
           },
           {
            "bin_start": 29.9,
            "bin_end": 30,
            "count": 0
           },
           {
            "bin_start": 30,
            "bin_end": 30.1,
            "count": 1
           },
           {
            "bin_start": 30.1,
            "bin_end": 30.2,
            "count": 0
           },
           {
            "bin_start": 30.2,
            "bin_end": 30.3,
            "count": 0
           },
           {
            "bin_start": 30.3,
            "bin_end": 30.4,
            "count": 0
           },
           {
            "bin_start": 30.4,
            "bin_end": 30.5,
            "count": 0
           }
          ]
         }
        },
        {
         "name": "FUROSEMIDE",
         "dtype": "int64",
         "stats": {
          "unique_count": 1,
          "nan_count": 0,
          "min": 162,
          "max": 162,
          "histogram": [
           {
            "bin_start": 161.5,
            "bin_end": 161.6,
            "count": 0
           },
           {
            "bin_start": 161.6,
            "bin_end": 161.7,
            "count": 0
           },
           {
            "bin_start": 161.7,
            "bin_end": 161.8,
            "count": 0
           },
           {
            "bin_start": 161.8,
            "bin_end": 161.9,
            "count": 0
           },
           {
            "bin_start": 161.9,
            "bin_end": 162,
            "count": 0
           },
           {
            "bin_start": 162,
            "bin_end": 162.1,
            "count": 1
           },
           {
            "bin_start": 162.1,
            "bin_end": 162.2,
            "count": 0
           },
           {
            "bin_start": 162.2,
            "bin_end": 162.3,
            "count": 0
           },
           {
            "bin_start": 162.3,
            "bin_end": 162.4,
            "count": 0
           },
           {
            "bin_start": 162.4,
            "bin_end": 162.5,
            "count": 0
           }
          ]
         }
        },
        {
         "name": "GLYBURIDE",
         "dtype": "int64",
         "stats": {
          "unique_count": 1,
          "nan_count": 0,
          "min": 16,
          "max": 16,
          "histogram": [
           {
            "bin_start": 15.5,
            "bin_end": 15.6,
            "count": 0
           },
           {
            "bin_start": 15.6,
            "bin_end": 15.7,
            "count": 0
           },
           {
            "bin_start": 15.7,
            "bin_end": 15.8,
            "count": 0
           },
           {
            "bin_start": 15.8,
            "bin_end": 15.9,
            "count": 0
           },
           {
            "bin_start": 15.9,
            "bin_end": 16,
            "count": 0
           },
           {
            "bin_start": 16,
            "bin_end": 16.1,
            "count": 1
           },
           {
            "bin_start": 16.1,
            "bin_end": 16.2,
            "count": 0
           },
           {
            "bin_start": 16.2,
            "bin_end": 16.3,
            "count": 0
           },
           {
            "bin_start": 16.3,
            "bin_end": 16.4,
            "count": 0
           },
           {
            "bin_start": 16.4,
            "bin_end": 16.5,
            "count": 0
           }
          ]
         }
        },
        {
         "name": "CLONIDINE HCL",
         "dtype": "int64",
         "stats": {
          "unique_count": 1,
          "nan_count": 0,
          "min": 43,
          "max": 43,
          "histogram": [
           {
            "bin_start": 42.5,
            "bin_end": 42.6,
            "count": 0
           },
           {
            "bin_start": 42.6,
            "bin_end": 42.7,
            "count": 0
           },
           {
            "bin_start": 42.7,
            "bin_end": 42.8,
            "count": 0
           },
           {
            "bin_start": 42.8,
            "bin_end": 42.9,
            "count": 0
           },
           {
            "bin_start": 42.9,
            "bin_end": 43,
            "count": 0
           },
           {
            "bin_start": 43,
            "bin_end": 43.1,
            "count": 1
           },
           {
            "bin_start": 43.1,
            "bin_end": 43.2,
            "count": 0
           },
           {
            "bin_start": 43.2,
            "bin_end": 43.3,
            "count": 0
           },
           {
            "bin_start": 43.3,
            "bin_end": 43.4,
            "count": 0
           },
           {
            "bin_start": 43.4,
            "bin_end": 43.5,
            "count": 0
           }
          ]
         }
        },
        {
         "name": "TEMAZEPAM",
         "dtype": "int64",
         "stats": {
          "unique_count": 1,
          "nan_count": 0,
          "min": 41,
          "max": 41,
          "histogram": [
           {
            "bin_start": 40.5,
            "bin_end": 40.6,
            "count": 0
           },
           {
            "bin_start": 40.6,
            "bin_end": 40.7,
            "count": 0
           },
           {
            "bin_start": 40.7,
            "bin_end": 40.8,
            "count": 0
           },
           {
            "bin_start": 40.8,
            "bin_end": 40.9,
            "count": 0
           },
           {
            "bin_start": 40.9,
            "bin_end": 41,
            "count": 0
           },
           {
            "bin_start": 41,
            "bin_end": 41.1,
            "count": 1
           },
           {
            "bin_start": 41.1,
            "bin_end": 41.2,
            "count": 0
           },
           {
            "bin_start": 41.2,
            "bin_end": 41.3,
            "count": 0
           },
           {
            "bin_start": 41.3,
            "bin_end": 41.4,
            "count": 0
           },
           {
            "bin_start": 41.4,
            "bin_end": 41.5,
            "count": 0
           }
          ]
         }
        },
        {
         "name": "SPIRONOLACTONE",
         "dtype": "int64",
         "stats": {
          "unique_count": 1,
          "nan_count": 0,
          "min": 50,
          "max": 50,
          "histogram": [
           {
            "bin_start": 49.5,
            "bin_end": 49.6,
            "count": 0
           },
           {
            "bin_start": 49.6,
            "bin_end": 49.7,
            "count": 0
           },
           {
            "bin_start": 49.7,
            "bin_end": 49.8,
            "count": 0
           },
           {
            "bin_start": 49.8,
            "bin_end": 49.9,
            "count": 0
           },
           {
            "bin_start": 49.9,
            "bin_end": 50,
            "count": 0
           },
           {
            "bin_start": 50,
            "bin_end": 50.1,
            "count": 1
           },
           {
            "bin_start": 50.1,
            "bin_end": 50.2,
            "count": 0
           },
           {
            "bin_start": 50.2,
            "bin_end": 50.3,
            "count": 0
           },
           {
            "bin_start": 50.3,
            "bin_end": 50.4,
            "count": 0
           },
           {
            "bin_start": 50.4,
            "bin_end": 50.5,
            "count": 0
           }
          ]
         }
        },
        {
         "name": "LOVASTATIN",
         "dtype": "int64",
         "stats": {
          "unique_count": 1,
          "nan_count": 0,
          "min": 11,
          "max": 11,
          "histogram": [
           {
            "bin_start": 10.5,
            "bin_end": 10.6,
            "count": 0
           },
           {
            "bin_start": 10.6,
            "bin_end": 10.7,
            "count": 0
           },
           {
            "bin_start": 10.7,
            "bin_end": 10.8,
            "count": 0
           },
           {
            "bin_start": 10.8,
            "bin_end": 10.9,
            "count": 0
           },
           {
            "bin_start": 10.9,
            "bin_end": 11,
            "count": 0
           },
           {
            "bin_start": 11,
            "bin_end": 11.1,
            "count": 1
           },
           {
            "bin_start": 11.1,
            "bin_end": 11.2,
            "count": 0
           },
           {
            "bin_start": 11.2,
            "bin_end": 11.3,
            "count": 0
           },
           {
            "bin_start": 11.3,
            "bin_end": 11.4,
            "count": 0
           },
           {
            "bin_start": 11.4,
            "bin_end": 11.5,
            "count": 0
           }
          ]
         }
        },
        {
         "name": "LISINOPRIL",
         "dtype": "int64",
         "stats": {
          "unique_count": 1,
          "nan_count": 0,
          "min": 44,
          "max": 44,
          "histogram": [
           {
            "bin_start": 43.5,
            "bin_end": 43.6,
            "count": 0
           },
           {
            "bin_start": 43.6,
            "bin_end": 43.7,
            "count": 0
           },
           {
            "bin_start": 43.7,
            "bin_end": 43.8,
            "count": 0
           },
           {
            "bin_start": 43.8,
            "bin_end": 43.9,
            "count": 0
           },
           {
            "bin_start": 43.9,
            "bin_end": 44,
            "count": 0
           },
           {
            "bin_start": 44,
            "bin_end": 44.1,
            "count": 1
           },
           {
            "bin_start": 44.1,
            "bin_end": 44.2,
            "count": 0
           },
           {
            "bin_start": 44.2,
            "bin_end": 44.3,
            "count": 0
           },
           {
            "bin_start": 44.3,
            "bin_end": 44.4,
            "count": 0
           },
           {
            "bin_start": 44.4,
            "bin_end": 44.5,
            "count": 0
           }
          ]
         }
        },
        {
         "name": "PANTOPRAZOLE SODIUM",
         "dtype": "int64",
         "stats": {
          "unique_count": 1,
          "nan_count": 0,
          "min": 13,
          "max": 13,
          "histogram": [
           {
            "bin_start": 12.5,
            "bin_end": 12.6,
            "count": 0
           },
           {
            "bin_start": 12.6,
            "bin_end": 12.7,
            "count": 0
           },
           {
            "bin_start": 12.7,
            "bin_end": 12.8,
            "count": 0
           },
           {
            "bin_start": 12.8,
            "bin_end": 12.9,
            "count": 0
           },
           {
            "bin_start": 12.9,
            "bin_end": 13,
            "count": 0
           },
           {
            "bin_start": 13,
            "bin_end": 13.1,
            "count": 1
           },
           {
            "bin_start": 13.1,
            "bin_end": 13.2,
            "count": 0
           },
           {
            "bin_start": 13.2,
            "bin_end": 13.3,
            "count": 0
           },
           {
            "bin_start": 13.3,
            "bin_end": 13.4,
            "count": 0
           },
           {
            "bin_start": 13.4,
            "bin_end": 13.5,
            "count": 0
           }
          ]
         }
        },
        {
         "name": "CALCIUM ACETATE",
         "dtype": "int64",
         "stats": {
          "unique_count": 1,
          "nan_count": 0,
          "min": 85,
          "max": 85,
          "histogram": [
           {
            "bin_start": 84.5,
            "bin_end": 84.6,
            "count": 0
           },
           {
            "bin_start": 84.6,
            "bin_end": 84.7,
            "count": 0
           },
           {
            "bin_start": 84.7,
            "bin_end": 84.8,
            "count": 0
           },
           {
            "bin_start": 84.8,
            "bin_end": 84.9,
            "count": 0
           },
           {
            "bin_start": 84.9,
            "bin_end": 85,
            "count": 0
           },
           {
            "bin_start": 85,
            "bin_end": 85.1,
            "count": 1
           },
           {
            "bin_start": 85.1,
            "bin_end": 85.2,
            "count": 0
           },
           {
            "bin_start": 85.2,
            "bin_end": 85.3,
            "count": 0
           },
           {
            "bin_start": 85.3,
            "bin_end": 85.4,
            "count": 0
           },
           {
            "bin_start": 85.4,
            "bin_end": 85.5,
            "count": 0
           }
          ]
         }
        },
        {
         "name": "NEXIUM",
         "dtype": "int64",
         "stats": {
          "unique_count": 1,
          "nan_count": 0,
          "min": 44,
          "max": 44,
          "histogram": [
           {
            "bin_start": 43.5,
            "bin_end": 43.6,
            "count": 0
           },
           {
            "bin_start": 43.6,
            "bin_end": 43.7,
            "count": 0
           },
           {
            "bin_start": 43.7,
            "bin_end": 43.8,
            "count": 0
           },
           {
            "bin_start": 43.8,
            "bin_end": 43.9,
            "count": 0
           },
           {
            "bin_start": 43.9,
            "bin_end": 44,
            "count": 0
           },
           {
            "bin_start": 44,
            "bin_end": 44.1,
            "count": 1
           },
           {
            "bin_start": 44.1,
            "bin_end": 44.2,
            "count": 0
           },
           {
            "bin_start": 44.2,
            "bin_end": 44.3,
            "count": 0
           },
           {
            "bin_start": 44.3,
            "bin_end": 44.4,
            "count": 0
           },
           {
            "bin_start": 44.4,
            "bin_end": 44.5,
            "count": 0
           }
          ]
         }
        },
        {
         "name": "ZOLPIDEM TARTRATE",
         "dtype": "int64",
         "stats": {
          "unique_count": 1,
          "nan_count": 0,
          "min": 41,
          "max": 41,
          "histogram": [
           {
            "bin_start": 40.5,
            "bin_end": 40.6,
            "count": 0
           },
           {
            "bin_start": 40.6,
            "bin_end": 40.7,
            "count": 0
           },
           {
            "bin_start": 40.7,
            "bin_end": 40.8,
            "count": 0
           },
           {
            "bin_start": 40.8,
            "bin_end": 40.9,
            "count": 0
           },
           {
            "bin_start": 40.9,
            "bin_end": 41,
            "count": 0
           },
           {
            "bin_start": 41,
            "bin_end": 41.1,
            "count": 1
           },
           {
            "bin_start": 41.1,
            "bin_end": 41.2,
            "count": 0
           },
           {
            "bin_start": 41.2,
            "bin_end": 41.3,
            "count": 0
           },
           {
            "bin_start": 41.3,
            "bin_end": 41.4,
            "count": 0
           },
           {
            "bin_start": 41.4,
            "bin_end": 41.5,
            "count": 0
           }
          ]
         }
        },
        {
         "name": "DIOVAN",
         "dtype": "int64",
         "stats": {
          "unique_count": 1,
          "nan_count": 0,
          "min": 20,
          "max": 20,
          "histogram": [
           {
            "bin_start": 19.5,
            "bin_end": 19.6,
            "count": 0
           },
           {
            "bin_start": 19.6,
            "bin_end": 19.7,
            "count": 0
           },
           {
            "bin_start": 19.7,
            "bin_end": 19.8,
            "count": 0
           },
           {
            "bin_start": 19.8,
            "bin_end": 19.9,
            "count": 0
           },
           {
            "bin_start": 19.9,
            "bin_end": 20,
            "count": 0
           },
           {
            "bin_start": 20,
            "bin_end": 20.1,
            "count": 1
           },
           {
            "bin_start": 20.1,
            "bin_end": 20.2,
            "count": 0
           },
           {
            "bin_start": 20.2,
            "bin_end": 20.3,
            "count": 0
           },
           {
            "bin_start": 20.3,
            "bin_end": 20.4,
            "count": 0
           },
           {
            "bin_start": 20.4,
            "bin_end": 20.5,
            "count": 0
           }
          ]
         }
        },
        {
         "name": "OXYCODONE HCL",
         "dtype": "int64",
         "stats": {
          "unique_count": 1,
          "nan_count": 0,
          "min": 51,
          "max": 51,
          "histogram": [
           {
            "bin_start": 50.5,
            "bin_end": 50.6,
            "count": 0
           },
           {
            "bin_start": 50.6,
            "bin_end": 50.7,
            "count": 0
           },
           {
            "bin_start": 50.7,
            "bin_end": 50.8,
            "count": 0
           },
           {
            "bin_start": 50.8,
            "bin_end": 50.9,
            "count": 0
           },
           {
            "bin_start": 50.9,
            "bin_end": 51,
            "count": 0
           },
           {
            "bin_start": 51,
            "bin_end": 51.1,
            "count": 1
           },
           {
            "bin_start": 51.1,
            "bin_end": 51.2,
            "count": 0
           },
           {
            "bin_start": 51.2,
            "bin_end": 51.3,
            "count": 0
           },
           {
            "bin_start": 51.3,
            "bin_end": 51.4,
            "count": 0
           },
           {
            "bin_start": 51.4,
            "bin_end": 51.5,
            "count": 0
           }
          ]
         }
        },
        {
         "name": "METOPROLOL SUCCINATE",
         "dtype": "int64",
         "stats": {
          "unique_count": 1,
          "nan_count": 0,
          "min": 104,
          "max": 104,
          "histogram": [
           {
            "bin_start": 103.5,
            "bin_end": 103.6,
            "count": 0
           },
           {
            "bin_start": 103.6,
            "bin_end": 103.7,
            "count": 0
           },
           {
            "bin_start": 103.7,
            "bin_end": 103.8,
            "count": 0
           },
           {
            "bin_start": 103.8,
            "bin_end": 103.9,
            "count": 0
           },
           {
            "bin_start": 103.9,
            "bin_end": 104,
            "count": 0
           },
           {
            "bin_start": 104,
            "bin_end": 104.1,
            "count": 1
           },
           {
            "bin_start": 104.1,
            "bin_end": 104.2,
            "count": 0
           },
           {
            "bin_start": 104.2,
            "bin_end": 104.3,
            "count": 0
           },
           {
            "bin_start": 104.3,
            "bin_end": 104.4,
            "count": 0
           },
           {
            "bin_start": 104.4,
            "bin_end": 104.5,
            "count": 0
           }
          ]
         }
        },
        {
         "name": "RANITIDINE HCL",
         "dtype": "int64",
         "stats": {
          "unique_count": 1,
          "nan_count": 0,
          "min": 21,
          "max": 21,
          "histogram": [
           {
            "bin_start": 20.5,
            "bin_end": 20.6,
            "count": 0
           },
           {
            "bin_start": 20.6,
            "bin_end": 20.7,
            "count": 0
           },
           {
            "bin_start": 20.7,
            "bin_end": 20.8,
            "count": 0
           },
           {
            "bin_start": 20.8,
            "bin_end": 20.9,
            "count": 0
           },
           {
            "bin_start": 20.9,
            "bin_end": 21,
            "count": 0
           },
           {
            "bin_start": 21,
            "bin_end": 21.1,
            "count": 1
           },
           {
            "bin_start": 21.1,
            "bin_end": 21.2,
            "count": 0
           },
           {
            "bin_start": 21.2,
            "bin_end": 21.3,
            "count": 0
           },
           {
            "bin_start": 21.3,
            "bin_end": 21.4,
            "count": 0
           },
           {
            "bin_start": 21.4,
            "bin_end": 21.5,
            "count": 0
           }
          ]
         }
        },
        {
         "name": "ATORVASTATIN CALCIUM",
         "dtype": "int64",
         "stats": {
          "unique_count": 1,
          "nan_count": 0,
          "min": 19,
          "max": 19,
          "histogram": [
           {
            "bin_start": 18.5,
            "bin_end": 18.6,
            "count": 0
           },
           {
            "bin_start": 18.6,
            "bin_end": 18.7,
            "count": 0
           },
           {
            "bin_start": 18.7,
            "bin_end": 18.8,
            "count": 0
           },
           {
            "bin_start": 18.8,
            "bin_end": 18.9,
            "count": 0
           },
           {
            "bin_start": 18.9,
            "bin_end": 19,
            "count": 0
           },
           {
            "bin_start": 19,
            "bin_end": 19.1,
            "count": 1
           },
           {
            "bin_start": 19.1,
            "bin_end": 19.2,
            "count": 0
           },
           {
            "bin_start": 19.2,
            "bin_end": 19.3,
            "count": 0
           },
           {
            "bin_start": 19.3,
            "bin_end": 19.4,
            "count": 0
           },
           {
            "bin_start": 19.4,
            "bin_end": 19.5,
            "count": 0
           }
          ]
         }
        },
        {
         "name": "TAMSULOSIN HCL",
         "dtype": "int64",
         "stats": {
          "unique_count": 1,
          "nan_count": 0,
          "min": 14,
          "max": 14,
          "histogram": [
           {
            "bin_start": 13.5,
            "bin_end": 13.6,
            "count": 0
           },
           {
            "bin_start": 13.6,
            "bin_end": 13.7,
            "count": 0
           },
           {
            "bin_start": 13.7,
            "bin_end": 13.8,
            "count": 0
           },
           {
            "bin_start": 13.8,
            "bin_end": 13.9,
            "count": 0
           },
           {
            "bin_start": 13.9,
            "bin_end": 14,
            "count": 0
           },
           {
            "bin_start": 14,
            "bin_end": 14.1,
            "count": 1
           },
           {
            "bin_start": 14.1,
            "bin_end": 14.2,
            "count": 0
           },
           {
            "bin_start": 14.2,
            "bin_end": 14.3,
            "count": 0
           },
           {
            "bin_start": 14.3,
            "bin_end": 14.4,
            "count": 0
           },
           {
            "bin_start": 14.4,
            "bin_end": 14.5,
            "count": 0
           }
          ]
         }
        },
        {
         "name": "OXYBUTYNIN CHLORIDE",
         "dtype": "int64",
         "stats": {
          "unique_count": 1,
          "nan_count": 0,
          "min": 11,
          "max": 11,
          "histogram": [
           {
            "bin_start": 10.5,
            "bin_end": 10.6,
            "count": 0
           },
           {
            "bin_start": 10.6,
            "bin_end": 10.7,
            "count": 0
           },
           {
            "bin_start": 10.7,
            "bin_end": 10.8,
            "count": 0
           },
           {
            "bin_start": 10.8,
            "bin_end": 10.9,
            "count": 0
           },
           {
            "bin_start": 10.9,
            "bin_end": 11,
            "count": 0
           },
           {
            "bin_start": 11,
            "bin_end": 11.1,
            "count": 1
           },
           {
            "bin_start": 11.1,
            "bin_end": 11.2,
            "count": 0
           },
           {
            "bin_start": 11.2,
            "bin_end": 11.3,
            "count": 0
           },
           {
            "bin_start": 11.3,
            "bin_end": 11.4,
            "count": 0
           },
           {
            "bin_start": 11.4,
            "bin_end": 11.5,
            "count": 0
           }
          ]
         }
        },
        {
         "name": "LISINOPRIL-HYDROCHLOROTHIAZIDE",
         "dtype": "int64",
         "stats": {
          "unique_count": 1,
          "nan_count": 0,
          "min": 19,
          "max": 19,
          "histogram": [
           {
            "bin_start": 18.5,
            "bin_end": 18.6,
            "count": 0
           },
           {
            "bin_start": 18.6,
            "bin_end": 18.7,
            "count": 0
           },
           {
            "bin_start": 18.7,
            "bin_end": 18.8,
            "count": 0
           },
           {
            "bin_start": 18.8,
            "bin_end": 18.9,
            "count": 0
           },
           {
            "bin_start": 18.9,
            "bin_end": 19,
            "count": 0
           },
           {
            "bin_start": 19,
            "bin_end": 19.1,
            "count": 1
           },
           {
            "bin_start": 19.1,
            "bin_end": 19.2,
            "count": 0
           },
           {
            "bin_start": 19.2,
            "bin_end": 19.3,
            "count": 0
           },
           {
            "bin_start": 19.3,
            "bin_end": 19.4,
            "count": 0
           },
           {
            "bin_start": 19.4,
            "bin_end": 19.5,
            "count": 0
           }
          ]
         }
        },
        {
         "name": "METOPROLOL TARTRATE",
         "dtype": "int64",
         "stats": {
          "unique_count": 1,
          "nan_count": 0,
          "min": 93,
          "max": 93,
          "histogram": [
           {
            "bin_start": 92.5,
            "bin_end": 92.6,
            "count": 0
           },
           {
            "bin_start": 92.6,
            "bin_end": 92.7,
            "count": 0
           },
           {
            "bin_start": 92.7,
            "bin_end": 92.8,
            "count": 0
           },
           {
            "bin_start": 92.8,
            "bin_end": 92.9,
            "count": 0
           },
           {
            "bin_start": 92.9,
            "bin_end": 93,
            "count": 0
           },
           {
            "bin_start": 93,
            "bin_end": 93.1,
            "count": 1
           },
           {
            "bin_start": 93.1,
            "bin_end": 93.2,
            "count": 0
           },
           {
            "bin_start": 93.2,
            "bin_end": 93.3,
            "count": 0
           },
           {
            "bin_start": 93.3,
            "bin_end": 93.4,
            "count": 0
           },
           {
            "bin_start": 93.4,
            "bin_end": 93.5,
            "count": 0
           }
          ]
         }
        },
        {
         "name": "AMLODIPINE BESYLATE-BENAZEPRIL",
         "dtype": "int64",
         "stats": {
          "unique_count": 1,
          "nan_count": 0,
          "min": 12,
          "max": 12,
          "histogram": [
           {
            "bin_start": 11.5,
            "bin_end": 11.6,
            "count": 0
           },
           {
            "bin_start": 11.6,
            "bin_end": 11.7,
            "count": 0
           },
           {
            "bin_start": 11.7,
            "bin_end": 11.8,
            "count": 0
           },
           {
            "bin_start": 11.8,
            "bin_end": 11.9,
            "count": 0
           },
           {
            "bin_start": 11.9,
            "bin_end": 12,
            "count": 0
           },
           {
            "bin_start": 12,
            "bin_end": 12.1,
            "count": 1
           },
           {
            "bin_start": 12.1,
            "bin_end": 12.2,
            "count": 0
           },
           {
            "bin_start": 12.2,
            "bin_end": 12.3,
            "count": 0
           },
           {
            "bin_start": 12.3,
            "bin_end": 12.4,
            "count": 0
           },
           {
            "bin_start": 12.4,
            "bin_end": 12.5,
            "count": 0
           }
          ]
         }
        },
        {
         "name": "BUMETANIDE",
         "dtype": "int64",
         "stats": {
          "unique_count": 1,
          "nan_count": 0,
          "min": 53,
          "max": 53,
          "histogram": [
           {
            "bin_start": 52.5,
            "bin_end": 52.6,
            "count": 0
           },
           {
            "bin_start": 52.6,
            "bin_end": 52.7,
            "count": 0
           },
           {
            "bin_start": 52.7,
            "bin_end": 52.8,
            "count": 0
           },
           {
            "bin_start": 52.8,
            "bin_end": 52.9,
            "count": 0
           },
           {
            "bin_start": 52.9,
            "bin_end": 53,
            "count": 0
           },
           {
            "bin_start": 53,
            "bin_end": 53.1,
            "count": 1
           },
           {
            "bin_start": 53.1,
            "bin_end": 53.2,
            "count": 0
           },
           {
            "bin_start": 53.2,
            "bin_end": 53.3,
            "count": 0
           },
           {
            "bin_start": 53.3,
            "bin_end": 53.4,
            "count": 0
           },
           {
            "bin_start": 53.4,
            "bin_end": 53.5,
            "count": 0
           }
          ]
         }
        },
        {
         "name": "BYSTOLIC",
         "dtype": "int64",
         "stats": {
          "unique_count": 1,
          "nan_count": 0,
          "min": 14,
          "max": 14,
          "histogram": [
           {
            "bin_start": 13.5,
            "bin_end": 13.6,
            "count": 0
           },
           {
            "bin_start": 13.6,
            "bin_end": 13.7,
            "count": 0
           },
           {
            "bin_start": 13.7,
            "bin_end": 13.8,
            "count": 0
           },
           {
            "bin_start": 13.8,
            "bin_end": 13.9,
            "count": 0
           },
           {
            "bin_start": 13.9,
            "bin_end": 14,
            "count": 0
           },
           {
            "bin_start": 14,
            "bin_end": 14.1,
            "count": 1
           },
           {
            "bin_start": 14.1,
            "bin_end": 14.2,
            "count": 0
           },
           {
            "bin_start": 14.2,
            "bin_end": 14.3,
            "count": 0
           },
           {
            "bin_start": 14.3,
            "bin_end": 14.4,
            "count": 0
           },
           {
            "bin_start": 14.4,
            "bin_end": 14.5,
            "count": 0
           }
          ]
         }
        },
        {
         "name": "ISOSORBIDE MONONITRATE ER",
         "dtype": "int64",
         "stats": {
          "unique_count": 1,
          "nan_count": 0,
          "min": 13,
          "max": 13,
          "histogram": [
           {
            "bin_start": 12.5,
            "bin_end": 12.6,
            "count": 0
           },
           {
            "bin_start": 12.6,
            "bin_end": 12.7,
            "count": 0
           },
           {
            "bin_start": 12.7,
            "bin_end": 12.8,
            "count": 0
           },
           {
            "bin_start": 12.8,
            "bin_end": 12.9,
            "count": 0
           },
           {
            "bin_start": 12.9,
            "bin_end": 13,
            "count": 0
           },
           {
            "bin_start": 13,
            "bin_end": 13.1,
            "count": 1
           },
           {
            "bin_start": 13.1,
            "bin_end": 13.2,
            "count": 0
           },
           {
            "bin_start": 13.2,
            "bin_end": 13.3,
            "count": 0
           },
           {
            "bin_start": 13.3,
            "bin_end": 13.4,
            "count": 0
           },
           {
            "bin_start": 13.4,
            "bin_end": 13.5,
            "count": 0
           }
          ]
         }
        },
        {
         "name": "ALLOPURINOL",
         "dtype": "int64",
         "stats": {
          "unique_count": 1,
          "nan_count": 0,
          "min": 86,
          "max": 86,
          "histogram": [
           {
            "bin_start": 85.5,
            "bin_end": 85.6,
            "count": 0
           },
           {
            "bin_start": 85.6,
            "bin_end": 85.7,
            "count": 0
           },
           {
            "bin_start": 85.7,
            "bin_end": 85.8,
            "count": 0
           },
           {
            "bin_start": 85.8,
            "bin_end": 85.9,
            "count": 0
           },
           {
            "bin_start": 85.9,
            "bin_end": 86,
            "count": 0
           },
           {
            "bin_start": 86,
            "bin_end": 86.1,
            "count": 1
           },
           {
            "bin_start": 86.1,
            "bin_end": 86.2,
            "count": 0
           },
           {
            "bin_start": 86.2,
            "bin_end": 86.3,
            "count": 0
           },
           {
            "bin_start": 86.3,
            "bin_end": 86.4,
            "count": 0
           },
           {
            "bin_start": 86.4,
            "bin_end": 86.5,
            "count": 0
           }
          ]
         }
        },
        {
         "name": "CLOPIDOGREL",
         "dtype": "int64",
         "stats": {
          "unique_count": 1,
          "nan_count": 0,
          "min": 22,
          "max": 22,
          "histogram": [
           {
            "bin_start": 21.5,
            "bin_end": 21.6,
            "count": 0
           },
           {
            "bin_start": 21.6,
            "bin_end": 21.7,
            "count": 0
           },
           {
            "bin_start": 21.7,
            "bin_end": 21.8,
            "count": 0
           },
           {
            "bin_start": 21.8,
            "bin_end": 21.9,
            "count": 0
           },
           {
            "bin_start": 21.9,
            "bin_end": 22,
            "count": 0
           },
           {
            "bin_start": 22,
            "bin_end": 22.1,
            "count": 1
           },
           {
            "bin_start": 22.1,
            "bin_end": 22.2,
            "count": 0
           },
           {
            "bin_start": 22.2,
            "bin_end": 22.3,
            "count": 0
           },
           {
            "bin_start": 22.3,
            "bin_end": 22.4,
            "count": 0
           },
           {
            "bin_start": 22.4,
            "bin_end": 22.5,
            "count": 0
           }
          ]
         }
        },
        {
         "name": "RENVELA",
         "dtype": "int64",
         "stats": {
          "unique_count": 1,
          "nan_count": 0,
          "min": 117,
          "max": 117,
          "histogram": [
           {
            "bin_start": 116.5,
            "bin_end": 116.6,
            "count": 0
           },
           {
            "bin_start": 116.6,
            "bin_end": 116.7,
            "count": 0
           },
           {
            "bin_start": 116.7,
            "bin_end": 116.8,
            "count": 0
           },
           {
            "bin_start": 116.8,
            "bin_end": 116.9,
            "count": 0
           },
           {
            "bin_start": 116.9,
            "bin_end": 117,
            "count": 0
           },
           {
            "bin_start": 117,
            "bin_end": 117.1,
            "count": 1
           },
           {
            "bin_start": 117.1,
            "bin_end": 117.2,
            "count": 0
           },
           {
            "bin_start": 117.2,
            "bin_end": 117.3,
            "count": 0
           },
           {
            "bin_start": 117.3,
            "bin_end": 117.4,
            "count": 0
           },
           {
            "bin_start": 117.4,
            "bin_end": 117.5,
            "count": 0
           }
          ]
         }
        },
        {
         "name": "ABILIFY",
         "dtype": "int64",
         "stats": {
          "unique_count": 1,
          "nan_count": 0,
          "min": 11,
          "max": 11,
          "histogram": [
           {
            "bin_start": 10.5,
            "bin_end": 10.6,
            "count": 0
           },
           {
            "bin_start": 10.6,
            "bin_end": 10.7,
            "count": 0
           },
           {
            "bin_start": 10.7,
            "bin_end": 10.8,
            "count": 0
           },
           {
            "bin_start": 10.8,
            "bin_end": 10.9,
            "count": 0
           },
           {
            "bin_start": 10.9,
            "bin_end": 11,
            "count": 0
           },
           {
            "bin_start": 11,
            "bin_end": 11.1,
            "count": 1
           },
           {
            "bin_start": 11.1,
            "bin_end": 11.2,
            "count": 0
           },
           {
            "bin_start": 11.2,
            "bin_end": 11.3,
            "count": 0
           },
           {
            "bin_start": 11.3,
            "bin_end": 11.4,
            "count": 0
           },
           {
            "bin_start": 11.4,
            "bin_end": 11.5,
            "count": 0
           }
          ]
         }
        },
        {
         "name": "SERTRALINE HCL",
         "dtype": "int64",
         "stats": {
          "unique_count": 1,
          "nan_count": 0,
          "min": 14,
          "max": 14,
          "histogram": [
           {
            "bin_start": 13.5,
            "bin_end": 13.6,
            "count": 0
           },
           {
            "bin_start": 13.6,
            "bin_end": 13.7,
            "count": 0
           },
           {
            "bin_start": 13.7,
            "bin_end": 13.8,
            "count": 0
           },
           {
            "bin_start": 13.8,
            "bin_end": 13.9,
            "count": 0
           },
           {
            "bin_start": 13.9,
            "bin_end": 14,
            "count": 0
           },
           {
            "bin_start": 14,
            "bin_end": 14.1,
            "count": 1
           },
           {
            "bin_start": 14.1,
            "bin_end": 14.2,
            "count": 0
           },
           {
            "bin_start": 14.2,
            "bin_end": 14.3,
            "count": 0
           },
           {
            "bin_start": 14.3,
            "bin_end": 14.4,
            "count": 0
           },
           {
            "bin_start": 14.4,
            "bin_end": 14.5,
            "count": 0
           }
          ]
         }
        },
        {
         "name": "CIPROFLOXACIN HCL",
         "dtype": "int64",
         "stats": {
          "unique_count": 1,
          "nan_count": 0,
          "min": 19,
          "max": 19,
          "histogram": [
           {
            "bin_start": 18.5,
            "bin_end": 18.6,
            "count": 0
           },
           {
            "bin_start": 18.6,
            "bin_end": 18.7,
            "count": 0
           },
           {
            "bin_start": 18.7,
            "bin_end": 18.8,
            "count": 0
           },
           {
            "bin_start": 18.8,
            "bin_end": 18.9,
            "count": 0
           },
           {
            "bin_start": 18.9,
            "bin_end": 19,
            "count": 0
           },
           {
            "bin_start": 19,
            "bin_end": 19.1,
            "count": 1
           },
           {
            "bin_start": 19.1,
            "bin_end": 19.2,
            "count": 0
           },
           {
            "bin_start": 19.2,
            "bin_end": 19.3,
            "count": 0
           },
           {
            "bin_start": 19.3,
            "bin_end": 19.4,
            "count": 0
           },
           {
            "bin_start": 19.4,
            "bin_end": 19.5,
            "count": 0
           }
          ]
         }
        },
        {
         "name": "SIMVASTATIN",
         "dtype": "int64",
         "stats": {
          "unique_count": 1,
          "nan_count": 0,
          "min": 14,
          "max": 14,
          "histogram": [
           {
            "bin_start": 13.5,
            "bin_end": 13.6,
            "count": 0
           },
           {
            "bin_start": 13.6,
            "bin_end": 13.7,
            "count": 0
           },
           {
            "bin_start": 13.7,
            "bin_end": 13.8,
            "count": 0
           },
           {
            "bin_start": 13.8,
            "bin_end": 13.9,
            "count": 0
           },
           {
            "bin_start": 13.9,
            "bin_end": 14,
            "count": 0
           },
           {
            "bin_start": 14,
            "bin_end": 14.1,
            "count": 1
           },
           {
            "bin_start": 14.1,
            "bin_end": 14.2,
            "count": 0
           },
           {
            "bin_start": 14.2,
            "bin_end": 14.3,
            "count": 0
           },
           {
            "bin_start": 14.3,
            "bin_end": 14.4,
            "count": 0
           },
           {
            "bin_start": 14.4,
            "bin_end": 14.5,
            "count": 0
           }
          ]
         }
        },
        {
         "name": "PRAVASTATIN SODIUM",
         "dtype": "int64",
         "stats": {
          "unique_count": 1,
          "nan_count": 0,
          "min": 13,
          "max": 13,
          "histogram": [
           {
            "bin_start": 12.5,
            "bin_end": 12.6,
            "count": 0
           },
           {
            "bin_start": 12.6,
            "bin_end": 12.7,
            "count": 0
           },
           {
            "bin_start": 12.7,
            "bin_end": 12.8,
            "count": 0
           },
           {
            "bin_start": 12.8,
            "bin_end": 12.9,
            "count": 0
           },
           {
            "bin_start": 12.9,
            "bin_end": 13,
            "count": 0
           },
           {
            "bin_start": 13,
            "bin_end": 13.1,
            "count": 1
           },
           {
            "bin_start": 13.1,
            "bin_end": 13.2,
            "count": 0
           },
           {
            "bin_start": 13.2,
            "bin_end": 13.3,
            "count": 0
           },
           {
            "bin_start": 13.3,
            "bin_end": 13.4,
            "count": 0
           },
           {
            "bin_start": 13.4,
            "bin_end": 13.5,
            "count": 0
           }
          ]
         }
        },
        {
         "name": "ATENOLOL-CHLORTHALIDONE",
         "dtype": "int64",
         "stats": {
          "unique_count": 1,
          "nan_count": 0,
          "min": 53,
          "max": 53,
          "histogram": [
           {
            "bin_start": 52.5,
            "bin_end": 52.6,
            "count": 0
           },
           {
            "bin_start": 52.6,
            "bin_end": 52.7,
            "count": 0
           },
           {
            "bin_start": 52.7,
            "bin_end": 52.8,
            "count": 0
           },
           {
            "bin_start": 52.8,
            "bin_end": 52.9,
            "count": 0
           },
           {
            "bin_start": 52.9,
            "bin_end": 53,
            "count": 0
           },
           {
            "bin_start": 53,
            "bin_end": 53.1,
            "count": 1
           },
           {
            "bin_start": 53.1,
            "bin_end": 53.2,
            "count": 0
           },
           {
            "bin_start": 53.2,
            "bin_end": 53.3,
            "count": 0
           },
           {
            "bin_start": 53.3,
            "bin_end": 53.4,
            "count": 0
           },
           {
            "bin_start": 53.4,
            "bin_end": 53.5,
            "count": 0
           }
          ]
         }
        },
        {
         "name": "ALPRAZOLAM",
         "dtype": "int64",
         "stats": {
          "unique_count": 1,
          "nan_count": 0,
          "min": 45,
          "max": 45,
          "histogram": [
           {
            "bin_start": 44.5,
            "bin_end": 44.6,
            "count": 0
           },
           {
            "bin_start": 44.6,
            "bin_end": 44.7,
            "count": 0
           },
           {
            "bin_start": 44.7,
            "bin_end": 44.8,
            "count": 0
           },
           {
            "bin_start": 44.8,
            "bin_end": 44.9,
            "count": 0
           },
           {
            "bin_start": 44.9,
            "bin_end": 45,
            "count": 0
           },
           {
            "bin_start": 45,
            "bin_end": 45.1,
            "count": 1
           },
           {
            "bin_start": 45.1,
            "bin_end": 45.2,
            "count": 0
           },
           {
            "bin_start": 45.2,
            "bin_end": 45.3,
            "count": 0
           },
           {
            "bin_start": 45.3,
            "bin_end": 45.4,
            "count": 0
           },
           {
            "bin_start": 45.4,
            "bin_end": 45.5,
            "count": 0
           }
          ]
         }
        },
        {
         "name": "AZITHROMYCIN",
         "dtype": "int64",
         "stats": {
          "unique_count": 1,
          "nan_count": 0,
          "min": 18,
          "max": 18,
          "histogram": [
           {
            "bin_start": 17.5,
            "bin_end": 17.6,
            "count": 0
           },
           {
            "bin_start": 17.6,
            "bin_end": 17.7,
            "count": 0
           },
           {
            "bin_start": 17.7,
            "bin_end": 17.8,
            "count": 0
           },
           {
            "bin_start": 17.8,
            "bin_end": 17.9,
            "count": 0
           },
           {
            "bin_start": 17.9,
            "bin_end": 18,
            "count": 0
           },
           {
            "bin_start": 18,
            "bin_end": 18.1,
            "count": 1
           },
           {
            "bin_start": 18.1,
            "bin_end": 18.2,
            "count": 0
           },
           {
            "bin_start": 18.2,
            "bin_end": 18.3,
            "count": 0
           },
           {
            "bin_start": 18.3,
            "bin_end": 18.4,
            "count": 0
           },
           {
            "bin_start": 18.4,
            "bin_end": 18.5,
            "count": 0
           }
          ]
         }
        },
        {
         "name": "TRAMADOL HCL",
         "dtype": "int64",
         "stats": {
          "unique_count": 1,
          "nan_count": 0,
          "min": 11,
          "max": 11,
          "histogram": [
           {
            "bin_start": 10.5,
            "bin_end": 10.6,
            "count": 0
           },
           {
            "bin_start": 10.6,
            "bin_end": 10.7,
            "count": 0
           },
           {
            "bin_start": 10.7,
            "bin_end": 10.8,
            "count": 0
           },
           {
            "bin_start": 10.8,
            "bin_end": 10.9,
            "count": 0
           },
           {
            "bin_start": 10.9,
            "bin_end": 11,
            "count": 0
           },
           {
            "bin_start": 11,
            "bin_end": 11.1,
            "count": 1
           },
           {
            "bin_start": 11.1,
            "bin_end": 11.2,
            "count": 0
           },
           {
            "bin_start": 11.2,
            "bin_end": 11.3,
            "count": 0
           },
           {
            "bin_start": 11.3,
            "bin_end": 11.4,
            "count": 0
           },
           {
            "bin_start": 11.4,
            "bin_end": 11.5,
            "count": 0
           }
          ]
         }
        },
        {
         "name": "_deepnote_index_column",
         "dtype": "int64"
        }
       ],
       "rows_top": [
        {
         "DOXAZOSIN MESYLATE": 26,
         "MIDODRINE HCL": 12,
         "MEGESTROL ACETATE": 11,
         "BENAZEPRIL HCL": 11,
         "METOLAZONE": 73,
         "NOVOLOG": 12,
         "DIAZEPAM": 24,
         "HYDRALAZINE HCL": 50,
         "SENSIPAR": 94,
         "LABETALOL HCL": 28,
         "PREDNISONE": 40,
         "CALCITRIOL": 79,
         "HYDROCODONE-ACETAMINOPHEN": 64,
         "HYDROCHLOROTHIAZIDE": 59,
         "LOSARTAN-HYDROCHLOROTHIAZIDE": 14,
         "FENOFIBRATE": 14,
         "MINOXIDIL": 14,
         "MELOXICAM": 29,
         "ATENOLOL": 62,
         "CARISOPRODOL": 40,
         "GABAPENTIN": 35,
         "OMEPRAZOLE": 35,
         "KLOR-CON M10": 20,
         "LANTUS": 20,
         "AMLODIPINE BESYLATE": 175,
         "CARVEDILOL": 36,
         "LOSARTAN POTASSIUM": 41,
         "IRBESARTAN": 11,
         "NIFEDICAL XL": 32,
         "NIFEDIPINE ER": 51,
         "LEVOTHYROXINE SODIUM": 12,
         "POTASSIUM CHLORIDE": 30,
         "FUROSEMIDE": 162,
         "GLYBURIDE": 16,
         "CLONIDINE HCL": 43,
         "TEMAZEPAM": 41,
         "SPIRONOLACTONE": 50,
         "LOVASTATIN": 11,
         "LISINOPRIL": 44,
         "PANTOPRAZOLE SODIUM": 13,
         "CALCIUM ACETATE": 85,
         "NEXIUM": 44,
         "ZOLPIDEM TARTRATE": 41,
         "DIOVAN": 20,
         "OXYCODONE HCL": 51,
         "METOPROLOL SUCCINATE": 104,
         "RANITIDINE HCL": 21,
         "ATORVASTATIN CALCIUM": 19,
         "TAMSULOSIN HCL": 14,
         "OXYBUTYNIN CHLORIDE": 11,
         "LISINOPRIL-HYDROCHLOROTHIAZIDE": 19,
         "METOPROLOL TARTRATE": 93,
         "AMLODIPINE BESYLATE-BENAZEPRIL": 12,
         "BUMETANIDE": 53,
         "BYSTOLIC": 14,
         "ISOSORBIDE MONONITRATE ER": 13,
         "ALLOPURINOL": 86,
         "CLOPIDOGREL": 22,
         "RENVELA": 117,
         "ABILIFY": 11,
         "SERTRALINE HCL": 14,
         "CIPROFLOXACIN HCL": 19,
         "SIMVASTATIN": 14,
         "PRAVASTATIN SODIUM": 13,
         "ATENOLOL-CHLORTHALIDONE": 53,
         "ALPRAZOLAM": 45,
         "AZITHROMYCIN": 18,
         "TRAMADOL HCL": 11,
         "_deepnote_index_column": 0
        }
       ],
       "rows_bottom": null
      },
      "text/plain": "   DOXAZOSIN MESYLATE  MIDODRINE HCL  MEGESTROL ACETATE  BENAZEPRIL HCL  \\\n0                  26             12                 11              11   \n\n   METOLAZONE  NOVOLOG  DIAZEPAM  HYDRALAZINE HCL  SENSIPAR  LABETALOL HCL  \\\n0          73       12        24               50        94             28   \n\n   ...  RENVELA  ABILIFY  SERTRALINE HCL  CIPROFLOXACIN HCL  SIMVASTATIN  \\\n0  ...      117       11              14                 19           14   \n\n   PRAVASTATIN SODIUM  ATENOLOL-CHLORTHALIDONE  ALPRAZOLAM  AZITHROMYCIN  \\\n0                  13                       53          45            18   \n\n   TRAMADOL HCL  \n0            11  \n\n[1 rows x 68 columns]",
      "text/html": "<div>\n<style scoped>\n    .dataframe tbody tr th:only-of-type {\n        vertical-align: middle;\n    }\n\n    .dataframe tbody tr th {\n        vertical-align: top;\n    }\n\n    .dataframe thead th {\n        text-align: right;\n    }\n</style>\n<table border=\"1\" class=\"dataframe\">\n  <thead>\n    <tr style=\"text-align: right;\">\n      <th></th>\n      <th>DOXAZOSIN MESYLATE</th>\n      <th>MIDODRINE HCL</th>\n      <th>MEGESTROL ACETATE</th>\n      <th>BENAZEPRIL HCL</th>\n      <th>METOLAZONE</th>\n      <th>NOVOLOG</th>\n      <th>DIAZEPAM</th>\n      <th>HYDRALAZINE HCL</th>\n      <th>SENSIPAR</th>\n      <th>LABETALOL HCL</th>\n      <th>...</th>\n      <th>RENVELA</th>\n      <th>ABILIFY</th>\n      <th>SERTRALINE HCL</th>\n      <th>CIPROFLOXACIN HCL</th>\n      <th>SIMVASTATIN</th>\n      <th>PRAVASTATIN SODIUM</th>\n      <th>ATENOLOL-CHLORTHALIDONE</th>\n      <th>ALPRAZOLAM</th>\n      <th>AZITHROMYCIN</th>\n      <th>TRAMADOL HCL</th>\n    </tr>\n  </thead>\n  <tbody>\n    <tr>\n      <th>0</th>\n      <td>26</td>\n      <td>12</td>\n      <td>11</td>\n      <td>11</td>\n      <td>73</td>\n      <td>12</td>\n      <td>24</td>\n      <td>50</td>\n      <td>94</td>\n      <td>28</td>\n      <td>...</td>\n      <td>117</td>\n      <td>11</td>\n      <td>14</td>\n      <td>19</td>\n      <td>14</td>\n      <td>13</td>\n      <td>53</td>\n      <td>45</td>\n      <td>18</td>\n      <td>11</td>\n    </tr>\n  </tbody>\n</table>\n<p>1 rows × 68 columns</p>\n</div>"
     },
     "metadata": {}
    }
   ]
  },
  {
   "cell_type": "code",
   "metadata": {
    "tags": [],
    "cell_id": "00009-01083b75-9406-401b-b8f9-2ba2146d01e3",
    "deepnote_to_be_reexecuted": false,
    "source_hash": "efebeed7",
    "execution_millis": 57,
    "execution_start": 1617968801076,
    "deepnote_cell_type": "code"
   },
   "source": [
    "json_normalize(df.iloc[0].provider_variables)"
   ],
   "execution_count": null,
   "outputs": [
    {
     "output_type": "execute_result",
     "execution_count": 7,
     "data": {
      "application/vnd.deepnote.dataframe.v2+json": {
       "row_count": 1,
       "column_count": 7,
       "columns": [
        {
         "name": "settlement_type",
         "dtype": "object",
         "stats": {
          "unique_count": 1,
          "nan_count": 0,
          "categories": [
           {
            "name": "non-urban",
            "count": 1
           }
          ]
         }
        },
        {
         "name": "generic_rx_count",
         "dtype": "int64",
         "stats": {
          "unique_count": 1,
          "nan_count": 0,
          "min": 2287,
          "max": 2287,
          "histogram": [
           {
            "bin_start": 2286.5,
            "bin_end": 2286.6,
            "count": 0
           },
           {
            "bin_start": 2286.6,
            "bin_end": 2286.7,
            "count": 0
           },
           {
            "bin_start": 2286.7,
            "bin_end": 2286.8,
            "count": 0
           },
           {
            "bin_start": 2286.8,
            "bin_end": 2286.9,
            "count": 0
           },
           {
            "bin_start": 2286.9,
            "bin_end": 2287,
            "count": 0
           },
           {
            "bin_start": 2287,
            "bin_end": 2287.1,
            "count": 1
           },
           {
            "bin_start": 2287.1,
            "bin_end": 2287.2,
            "count": 0
           },
           {
            "bin_start": 2287.2,
            "bin_end": 2287.3,
            "count": 0
           },
           {
            "bin_start": 2287.3,
            "bin_end": 2287.4,
            "count": 0
           },
           {
            "bin_start": 2287.4,
            "bin_end": 2287.5,
            "count": 0
           }
          ]
         }
        },
        {
         "name": "specialty",
         "dtype": "object",
         "stats": {
          "unique_count": 1,
          "nan_count": 0,
          "categories": [
           {
            "name": "Nephrology",
            "count": 1
           }
          ]
         }
        },
        {
         "name": "years_practicing",
         "dtype": "int64",
         "stats": {
          "unique_count": 1,
          "nan_count": 0,
          "min": 7,
          "max": 7,
          "histogram": [
           {
            "bin_start": 6.5,
            "bin_end": 6.6,
            "count": 0
           },
           {
            "bin_start": 6.6,
            "bin_end": 6.7,
            "count": 0
           },
           {
            "bin_start": 6.7,
            "bin_end": 6.8,
            "count": 0
           },
           {
            "bin_start": 6.8,
            "bin_end": 6.9,
            "count": 0
           },
           {
            "bin_start": 6.9,
            "bin_end": 7,
            "count": 0
           },
           {
            "bin_start": 7,
            "bin_end": 7.1,
            "count": 1
           },
           {
            "bin_start": 7.1,
            "bin_end": 7.2,
            "count": 0
           },
           {
            "bin_start": 7.2,
            "bin_end": 7.3,
            "count": 0
           },
           {
            "bin_start": 7.3,
            "bin_end": 7.4,
            "count": 0
           },
           {
            "bin_start": 7.4,
            "bin_end": 7.5,
            "count": 0
           }
          ]
         }
        },
        {
         "name": "gender",
         "dtype": "object",
         "stats": {
          "unique_count": 1,
          "nan_count": 0,
          "categories": [
           {
            "name": "M",
            "count": 1
           }
          ]
         }
        },
        {
         "name": "region",
         "dtype": "object",
         "stats": {
          "unique_count": 1,
          "nan_count": 0,
          "categories": [
           {
            "name": "South",
            "count": 1
           }
          ]
         }
        },
        {
         "name": "brand_name_rx_count",
         "dtype": "int64",
         "stats": {
          "unique_count": 1,
          "nan_count": 0,
          "min": 384,
          "max": 384,
          "histogram": [
           {
            "bin_start": 383.5,
            "bin_end": 383.6,
            "count": 0
           },
           {
            "bin_start": 383.6,
            "bin_end": 383.7,
            "count": 0
           },
           {
            "bin_start": 383.7,
            "bin_end": 383.8,
            "count": 0
           },
           {
            "bin_start": 383.8,
            "bin_end": 383.9,
            "count": 0
           },
           {
            "bin_start": 383.9,
            "bin_end": 384,
            "count": 0
           },
           {
            "bin_start": 384,
            "bin_end": 384.1,
            "count": 1
           },
           {
            "bin_start": 384.1,
            "bin_end": 384.2,
            "count": 0
           },
           {
            "bin_start": 384.2,
            "bin_end": 384.3,
            "count": 0
           },
           {
            "bin_start": 384.3,
            "bin_end": 384.4,
            "count": 0
           },
           {
            "bin_start": 384.4,
            "bin_end": 384.5,
            "count": 0
           }
          ]
         }
        },
        {
         "name": "_deepnote_index_column",
         "dtype": "int64"
        }
       ],
       "rows_top": [
        {
         "settlement_type": "non-urban",
         "generic_rx_count": 2287,
         "specialty": "Nephrology",
         "years_practicing": 7,
         "gender": "M",
         "region": "South",
         "brand_name_rx_count": 384,
         "_deepnote_index_column": 0
        }
       ],
       "rows_bottom": null
      },
      "text/plain": "  settlement_type  generic_rx_count   specialty  years_practicing gender  \\\n0       non-urban              2287  Nephrology                 7      M   \n\n  region  brand_name_rx_count  \n0  South                  384  ",
      "text/html": "<div>\n<style scoped>\n    .dataframe tbody tr th:only-of-type {\n        vertical-align: middle;\n    }\n\n    .dataframe tbody tr th {\n        vertical-align: top;\n    }\n\n    .dataframe thead th {\n        text-align: right;\n    }\n</style>\n<table border=\"1\" class=\"dataframe\">\n  <thead>\n    <tr style=\"text-align: right;\">\n      <th></th>\n      <th>settlement_type</th>\n      <th>generic_rx_count</th>\n      <th>specialty</th>\n      <th>years_practicing</th>\n      <th>gender</th>\n      <th>region</th>\n      <th>brand_name_rx_count</th>\n    </tr>\n  </thead>\n  <tbody>\n    <tr>\n      <th>0</th>\n      <td>non-urban</td>\n      <td>2287</td>\n      <td>Nephrology</td>\n      <td>7</td>\n      <td>M</td>\n      <td>South</td>\n      <td>384</td>\n    </tr>\n  </tbody>\n</table>\n</div>"
     },
     "metadata": {}
    }
   ]
  },
  {
   "cell_type": "markdown",
   "source": [
    "Cool, let's now see what the distribution of those variables looks like."
   ],
   "metadata": {
    "tags": [],
    "cell_id": "00012-4e3e3fb9-2780-40a6-afdd-07e8fc6a5c0d",
    "deepnote_cell_type": "markdown"
   }
  },
  {
   "cell_type": "code",
   "metadata": {
    "tags": [],
    "cell_id": "00010-e3708f4e-fb69-4c5a-b6c0-22c20a9536b3",
    "deepnote_to_be_reexecuted": false,
    "source_hash": "66d1bb80",
    "execution_millis": 8069,
    "execution_start": 1617968801142,
    "deepnote_output_heights": [
     59.5625
    ],
    "deepnote_cell_type": "code"
   },
   "source": [
    "json_normalize(df[\"provider_variables\"]).settlement_type.value_counts()"
   ],
   "execution_count": null,
   "outputs": [
    {
     "output_type": "execute_result",
     "execution_count": 8,
     "data": {
      "text/plain": "non-urban    152270\nurban         87660\nName: settlement_type, dtype: int64"
     },
     "metadata": {}
    }
   ]
  },
  {
   "cell_type": "code",
   "metadata": {
    "tags": [],
    "cell_id": "00013-063a960c-15f1-485d-876c-63cb5a91a093",
    "deepnote_to_be_reexecuted": false,
    "source_hash": "a3c10c87",
    "execution_millis": 8045,
    "execution_start": 1617968809269,
    "deepnote_output_heights": [
     97.9375
    ],
    "deepnote_cell_type": "code"
   },
   "source": [
    "json_normalize(df[\"provider_variables\"]).region.value_counts()"
   ],
   "execution_count": null,
   "outputs": [
    {
     "output_type": "execute_result",
     "execution_count": 9,
     "data": {
      "text/plain": "South        80562\nNortheast    59012\nWest         50279\nMidwest      50077\nName: region, dtype: int64"
     },
     "metadata": {}
    }
   ]
  },
  {
   "cell_type": "markdown",
   "source": [
    "It looks like the `cms_prescription_counts` column contains a `json` dictionary with the names of each drug followed by the count. The `provider_variables` column seems to have a `json` dictionary that contains information about the provider who prescribed the drugs.\n",
    "\n",
    "It might be interesting to build a few models that predict some of these variables given the prescribed drugs and counts. In this blog post, we'll focus on estimating the `settlement_type` and the `region`.\n",
    "\n",
    "Let's set the feature and response variables to their appropriate column and convert them to native Python lists. Let's also split the data into a train and validation set."
   ],
   "metadata": {
    "tags": [],
    "cell_id": "00010-2b8789e8-f839-4329-ab55-d3901f92bc49",
    "deepnote_cell_type": "markdown"
   }
  },
  {
   "cell_type": "code",
   "metadata": {
    "tags": [],
    "cell_id": "00012-03f200e3-e8ed-4bbd-9c57-a499dd3efe05",
    "deepnote_to_be_reexecuted": false,
    "source_hash": "92e50aba",
    "execution_millis": 387,
    "execution_start": 1617968817345,
    "deepnote_cell_type": "code"
   },
   "source": [
    "TEST_PCT = 0.2\n",
    "X = df.cms_prescription_counts.tolist()\n",
    "y = df.provider_variables.tolist()\n",
    "X_train, X_test, y_train, y_test = train_test_split(X, y, test_size=TEST_PCT)"
   ],
   "execution_count": null,
   "outputs": []
  },
  {
   "cell_type": "markdown",
   "source": [
    "## Custom Transformers\n",
    "\n",
    "Developing `sklearn` API compatible transformers will allow us to make full use of other aspects of the library. In this example, we'll implement two custom transformers that leverage sklearn [base classes](https://scikit-learn.org/stable/modules/classes.html#module-sklearn.base) to transform the response variable in the dataset."
   ],
   "metadata": {
    "tags": [],
    "cell_id": "00003-d5d90e4e-18a8-40b1-827a-57e14de5888c",
    "deepnote_cell_type": "markdown"
   }
  },
  {
   "cell_type": "markdown",
   "source": [
    "### JSONTargetSelector\n",
    "\n",
    "First, let's build a way to quickly extract a desired response variable from `y`. We start by defining a class that inherits from [`TransformerMixin`](https://scikit-learn.org/stable/modules/generated/sklearn.base.TransformerMixin.html#sklearn.base.TransformerMixin) which gives us the `fit_transform` method if we define the `fit` and `transform` methods.\n",
    "\n",
    "Next up, we define the constructor which requires two variables that tell us the key to extract from each `json` row and the dimensions of the data output. We also include an `is_fit_` attribute which lets `sklearn` helper functions know that this transformer is already been \"fitted\" (i.e. it doesn't need to be fit)"
   ],
   "metadata": {
    "tags": [],
    "cell_id": "00016-4dbbf08e-08fb-458e-918f-fa4b2dbdfed2",
    "deepnote_cell_type": "markdown"
   }
  },
  {
   "cell_type": "code",
   "metadata": {
    "tags": [],
    "cell_id": "00017-ce104a1b-7375-44a0-bb34-eaa301d6ecca",
    "deepnote_to_be_reexecuted": false,
    "source_hash": "85e4aef",
    "execution_millis": 32,
    "execution_start": 1617968817738,
    "deepnote_cell_type": "code"
   },
   "source": [
    "class JSONTargetSelector(TransformerMixin):\n",
    "    \"\"\"From a list of json blobs select a particular key and compose a new list of those values.\n",
    "\n",
    "    Args:\n",
    "        target_name: The json key to extract in each row\n",
    "        two_d_out: Whether the output transformation should be 2d\n",
    "\n",
    "    \"\"\"\n",
    "\n",
    "    def __init__(self, target_name: str, two_d_out: bool = False):\n",
    "        self.target_name = target_name\n",
    "        self.two_d_out = two_d_out\n",
    "        self.is_fit_ = True"
   ],
   "execution_count": null,
   "outputs": []
  },
  {
   "cell_type": "markdown",
   "source": [
    "Now, let's add the `fit` method. It is empty because we already have all the information we need to transform input data from the constructor alone. We return `self` (the object instance) as per convention.\n",
    "\n",
    "<div class=\"flash\">\n",
    "<b>Note:</b> Here we use the neat <a href=\"https://fastcore.fast.ai/basics.html#patch\"><code>@patch</code></a> decorator to add instance methods to the class so that we don't have to have all of the code in a single jupyter cell.\n",
    "</div>"
   ],
   "metadata": {
    "tags": [],
    "cell_id": "00018-ba6e5c32-4aea-48a1-858c-8f43e88c6bd1",
    "deepnote_cell_type": "markdown"
   }
  },
  {
   "cell_type": "code",
   "metadata": {
    "tags": [],
    "cell_id": "00014-8f813558-ef41-4421-b21e-c83a17628b1b",
    "deepnote_to_be_reexecuted": false,
    "source_hash": "2dd0a7fe",
    "execution_millis": 1,
    "execution_start": 1617968817782,
    "deepnote_cell_type": "code"
   },
   "source": [
    "@patch\n",
    "def fit(self: JSONTargetSelector, X: SklearnInput, y: SklearnInput = None):\n",
    "    return self"
   ],
   "execution_count": null,
   "outputs": []
  },
  {
   "cell_type": "markdown",
   "source": [
    "Now let's add the transform functionality. We break this up into the two methods. The `_extract_target` method allows us to pull a particular key out of an input dictionary while also validating that the inputs are as we expect them. The `transform` method does the meat of the data conversion. It turns a list of `json` objects to a flat list of selected values."
   ],
   "metadata": {
    "tags": [],
    "cell_id": "00020-775e1535-ac1f-4f42-8ae4-e506ea4608d7",
    "deepnote_cell_type": "markdown"
   }
  },
  {
   "cell_type": "code",
   "metadata": {
    "tags": [],
    "cell_id": "00020-05162781-bdc7-4286-96a0-6ee8f6e3ba73",
    "deepnote_to_be_reexecuted": false,
    "source_hash": "aaa493aa",
    "execution_millis": 22,
    "execution_start": 1617968817798,
    "deepnote_cell_type": "code"
   },
   "source": [
    "@patch\n",
    "def _extract_target(self: JSONTargetSelector, index: int, json_dict: dict):\n",
    "    \"\"\"Get the target key from a dictionary.\n",
    "\n",
    "    Args:\n",
    "        index: the index of the current row\n",
    "        json_dict: potentially a json dictionary which has `target_name` as a key\n",
    "\n",
    "    Returns:\n",
    "        The value of the `target_name` key.\n",
    "\n",
    "    Raises:\n",
    "        ValueError: If `json_dict` is not a dictionary\n",
    "        ValueError: If `target_name` is not in the `json_dict`\n",
    "\n",
    "    \"\"\"\n",
    "    if not isinstance(json_dict, dict):\n",
    "        raise ValueError(f\"item at index {index} is not a dictionary.\")\n",
    "    if self.target_name not in json_dict:\n",
    "        raise ValueError(f\"index {index} is missing target {self.target_name}.\")\n",
    "    return json_dict.get(self.target_name)\n",
    "\n",
    "\n",
    "@patch\n",
    "def transform(self: JSONTargetSelector, X: SklearnInput, y: SklearnInput = None):\n",
    "    X = check_array(\n",
    "        X, accept_sparse=False, force_all_finite=True, ensure_2d=False, dtype=\"object\"\n",
    "    )\n",
    "    out = np.array([self._extract_target(i, Xi) for i, Xi in enumerate(np.squeeze(X))])\n",
    "    if self.two_d_out:\n",
    "        out = out.reshape((-1, 1))\n",
    "    return out"
   ],
   "execution_count": null,
   "outputs": []
  },
  {
   "cell_type": "markdown",
   "source": [
    "Lastly, let's add the identity function as the inverse transform. There is no meaningful inverse since we lose data during the transform and future sections will require this function to have an implementation."
   ],
   "metadata": {
    "tags": [],
    "cell_id": "00022-52fd2e64-8cd7-47a8-a45d-d7ab55d22f12",
    "deepnote_cell_type": "markdown"
   }
  },
  {
   "cell_type": "code",
   "metadata": {
    "tags": [],
    "cell_id": "00023-e45768db-63f4-49bb-9fb2-c9309b662a55",
    "deepnote_to_be_reexecuted": false,
    "source_hash": "6eb8ca6f",
    "execution_millis": 10,
    "execution_start": 1617968817821,
    "deepnote_cell_type": "code"
   },
   "source": [
    "@patch\n",
    "def inverse_transform(self: JSONTargetSelector, X: SklearnInput):\n",
    "    return X"
   ],
   "execution_count": null,
   "outputs": []
  },
  {
   "cell_type": "markdown",
   "source": [
    "We can test that the above implementation works with some fake data. Given we selects `\"c\"` as the desired key, we should see `[2 4 8]` in the output which is exactly what we observe."
   ],
   "metadata": {
    "tags": [],
    "cell_id": "00024-acdaa52d-a001-492c-aa20-75777224fda9",
    "deepnote_cell_type": "markdown"
   }
  },
  {
   "cell_type": "code",
   "metadata": {
    "tags": [],
    "cell_id": "00017-018f5891-5bda-4767-8824-f395c2b25e72",
    "deepnote_to_be_reexecuted": false,
    "source_hash": "6226450b",
    "execution_millis": 208,
    "execution_start": 1617968817832,
    "deepnote_cell_type": "code"
   },
   "source": [
    "d = {k: i for i, k in enumerate(list(\"abcd\"))}\n",
    "list_of_dict = [d, {k: v**2 for k, v in d.items()}, {k: v**3 for k, v in d.items()}]\n",
    "\n",
    "print(\"List of Dicts\")\n",
    "pprint(list_of_dict)\n",
    "print()\n",
    "\n",
    "selected_key = \"c\"\n",
    "jts = JSONTargetSelector(selected_key)\n",
    "jts_trans = jts.fit_transform(list_of_dict)\n",
    "\n",
    "print(\"Transformed Data\")\n",
    "print(jts_trans)"
   ],
   "execution_count": null,
   "outputs": [
    {
     "name": "stdout",
     "text": "List of Dicts\n[{'a': 0, 'b': 1, 'c': 2, 'd': 3},\n {'a': 0, 'b': 1, 'c': 4, 'd': 9},\n {'a': 0, 'b': 1, 'c': 8, 'd': 27}]\n\nTransformed Data\n[2 4 8]\n",
     "output_type": "stream"
    }
   ]
  },
  {
   "cell_type": "markdown",
   "source": [
    "### TransformedTargetClassifier\n",
    "\n",
    "_Phew_, alright now that we've got that class completed we need to build a wrapper class that will allow us to actually use it in downstream applications.\n",
    "\n",
    "Why, you may ask? In our case, we want a simple way to both transform the response variable and estimate on the response variable. Building a composite meta estimator is the way to go here considering the broader API constraints. To be honest, it's a bit of a quirk in the way the `sklearn` API was originally designed. By that, I mean that the original API design does not really take into account the possibility of transforming the response variable (specifically using [`Pipelines`](https://scikit-learn.org/stable/modules/generated/sklearn.pipeline.Pipeline.html#sklearn.pipeline.Pipeline) which we'll see in just a bit).\n",
    "\n",
    "`sklearn` already has addressed that flaw with a built-in meta estimator called [`TransformedTargetRegressor`](https://scikit-learn.org/stable/modules/generated/sklearn.compose.TransformedTargetRegressor.html), but unfortunately, it only works for regression estimators. (e.g. applying a log transform to your response variable) In our case, we are looking at a binary classification problem, so we'll need to roll our own.\n",
    "\n",
    "First, let's define a constructor which takes in an instance of a classifier and a transformer."
   ],
   "metadata": {
    "tags": [],
    "cell_id": "00019-5e638b1b-8f33-48ff-9f86-b76d4609b135",
    "deepnote_cell_type": "markdown"
   }
  },
  {
   "cell_type": "code",
   "metadata": {
    "tags": [],
    "cell_id": "00013-e925389d-64d6-4e66-a6ac-3e0d014d6685",
    "deepnote_to_be_reexecuted": false,
    "source_hash": "9fa38b8d",
    "execution_millis": 37,
    "execution_start": 1617968817869,
    "deepnote_cell_type": "code"
   },
   "source": [
    "class TransformedTargetClassifier(ClassifierMixin, BaseEstimator):\n",
    "    \"\"\"A meta estimator that both transforms the response variable.\n",
    "\n",
    "    Args:\n",
    "        classifier: An instance of a class that inherits from BaseEstimator\n",
    "        transformer: An instance of a class that inherits from TransformerMixin\n",
    "\n",
    "    \"\"\"\n",
    "\n",
    "    def __init__(\n",
    "        self, classifier: BaseEstimator, transformer: Union[TransformerMixin, Pipeline]\n",
    "    ):\n",
    "        self.classifier = classifier\n",
    "        self.transformer = transformer"
   ],
   "execution_count": null,
   "outputs": []
  },
  {
   "cell_type": "markdown",
   "source": [
    "Now when fitting this meta estimator, we need to fit both the classifier and the transformer. But first, we need to quickly validate the input y array. Stealing a bit of code from `TransformTargetRegressor` we can validate both the datatypes and shape of the inputs.\n",
    "\n",
    "We use [`check_array`](https://scikit-learn.org/stable/modules/generated/sklearn.utils.check_array.html) which is a validation function from `sklearn` which converts inputs into [`np.ndarray`](https://numpy.org/doc/stable/reference/generated/numpy.ndarray.html) form and validates a bunch of other things for us. We follow this with a bit of code to make sure that the dimensions of the response variable are correct. This is so that we can handle either the user passing a row vector or a column vector."
   ],
   "metadata": {
    "tags": [],
    "cell_id": "00028-b8626be7-6f95-4aa6-8aa2-6a1c6bd55cb2",
    "deepnote_cell_type": "markdown"
   }
  },
  {
   "cell_type": "code",
   "metadata": {
    "tags": [],
    "cell_id": "00028-6e8936d0-fdb9-4a7e-8e51-ef6a730f67d1",
    "deepnote_to_be_reexecuted": false,
    "source_hash": "e792a942",
    "execution_millis": 1,
    "execution_start": 1617968817908,
    "deepnote_cell_type": "code"
   },
   "source": [
    "@patch\n",
    "def fit(  # noqa: F811\n",
    "    self: TransformedTargetClassifier,\n",
    "    X: SklearnInput,\n",
    "    y: SklearnInput,\n",
    "    **fit_params: Any,\n",
    "):\n",
    "    y = check_array(\n",
    "        y, accept_sparse=False, force_all_finite=True, ensure_2d=False, dtype=\"object\"\n",
    "    )\n",
    "    # store the original dimensions of y\n",
    "    self._training_dim = y.ndim\n",
    "    if y.ndim == 1:\n",
    "        y_2d = y.reshape(-1, 1)\n",
    "    else:\n",
    "        y_2d = y\n",
    "    self.transformer.fit(y_2d)\n",
    "    y_trans = self.transformer.transform(y_2d)\n",
    "    self.classifier.fit(X, y_trans, **fit_params)\n",
    "    self.is_fit_ = True\n",
    "\n",
    "    return self"
   ],
   "execution_count": null,
   "outputs": []
  },
  {
   "cell_type": "markdown",
   "source": [
    "With the `fit` method in place, we turn our attention to `predict` which is where the magic happens.\n",
    "\n",
    "We use the `check_is_fitted` method to make sure that the particular transformer is fit. `sklearn` has an internal convention which checks for a variable to exist with a trailing underscore (`_`) to know if an instance has been fit. Since we don't know the exact classifier or transformer, we cannot get any more specific than that. Unfortunately, `Pipelines` [do not set the conventional attributes at fit time](https://stackoverflow.com/questions/63027527/sklearn-pipeline-not-fitted-after-fit-has-been-called#comment111476677_63027527) so we have no way of knowing if it has been fitted.\n",
    "\n",
    "Next, we run the predict step of the classifier and run an inverse transformation on its output. (running the fit steps in reverse) This was why we made sure to define the `inverse_transform` method in our previous custom transformer. After that, we make sure to handle data dimension issues before returning the output."
   ],
   "metadata": {
    "tags": [],
    "cell_id": "00030-099f7c3f-b312-4afd-bc33-d460da252e45",
    "deepnote_cell_type": "markdown"
   }
  },
  {
   "cell_type": "code",
   "metadata": {
    "tags": [],
    "cell_id": "00030-477a5d58-aaa5-4330-a407-f6fa95896c28",
    "deepnote_to_be_reexecuted": false,
    "source_hash": "5ee6c9bf",
    "execution_millis": 1,
    "execution_start": 1617968817962,
    "deepnote_cell_type": "code"
   },
   "source": [
    "@patch\n",
    "def predict(self: TransformedTargetClassifier, X: SklearnInput):\n",
    "    check_is_fitted(self.classifier)\n",
    "    if not isinstance(self.transformer, Pipeline):\n",
    "        check_is_fitted(self.transformer)\n",
    "\n",
    "    pred = self.classifier.predict(X)\n",
    "\n",
    "    if pred.ndim == 1:\n",
    "        pred = pred.reshape(-1, 1)\n",
    "\n",
    "    pred_trans = self.transformer.inverse_transform(pred)\n",
    "\n",
    "    if self._training_dim == 1 and pred_trans.ndim == 2 and pred_trans.shape[1] == 1:\n",
    "        pred_trans = pred_trans.squeeze(axis=1)\n",
    "\n",
    "    return pred_trans"
   ],
   "execution_count": null,
   "outputs": []
  },
  {
   "cell_type": "markdown",
   "source": [
    "Lastly, we have to add an updated `score` method. We cannot simply just use the [inherited scoring](https://github.com/scikit-learn/scikit-learn/blob/95119c13af77c76e150b753485c662b7c52a41a2/sklearn/base.py#L470) method since we need to transform the ground truth variable before scoring. We use accuracy just the same as the super class."
   ],
   "metadata": {
    "tags": [],
    "cell_id": "00031-cfd197e3-3b20-4e27-88d9-48fc2ba69556",
    "deepnote_cell_type": "markdown"
   }
  },
  {
   "cell_type": "code",
   "metadata": {
    "tags": [],
    "cell_id": "00031-e8d71140-3110-4cd6-9d74-4d08b6441e45",
    "deepnote_to_be_reexecuted": false,
    "source_hash": "ed794602",
    "execution_millis": 22,
    "execution_start": 1617968818130,
    "deepnote_cell_type": "code"
   },
   "source": [
    "@patch\n",
    "def score(\n",
    "    self: TransformedTargetClassifier,\n",
    "    X: SklearnInput,\n",
    "    y: SklearnInput,\n",
    "    sample_weight: Union[list, np.ndarray] = None,\n",
    "):\n",
    "    y = check_array(\n",
    "        y, accept_sparse=False, force_all_finite=True, ensure_2d=False, dtype=None\n",
    "    )\n",
    "    if y.ndim == 1:\n",
    "        y = y.reshape((-1, 1))\n",
    "    y = self.transformer.transform(y)\n",
    "\n",
    "    return accuracy_score(y, self.classifier.predict(X), sample_weight=sample_weight)"
   ],
   "execution_count": null,
   "outputs": []
  },
  {
   "cell_type": "markdown",
   "source": [
    "Finally, we're ready to see if this class works!\n",
    "\n",
    "Let's generate some random data with 100 samples to test in a `Pipeline`. We'll cover exactly how `Pipelines` work in the next section so don't worry about the details here. We just want to make sure that we see strings instead of numbers as the output of a prediction, which, we do indeed see."
   ],
   "metadata": {
    "tags": [],
    "cell_id": "00032-746aebe4-4a65-46d3-bfcb-aea04184fb3a",
    "deepnote_cell_type": "markdown"
   }
  },
  {
   "cell_type": "code",
   "metadata": {
    "tags": [],
    "cell_id": "00032-be02b619-8118-4383-a995-ada431bfa201",
    "deepnote_to_be_reexecuted": false,
    "source_hash": "a62838b0",
    "execution_millis": 133,
    "execution_start": 1617968818160,
    "deepnote_output_heights": [
     21.1875
    ],
    "deepnote_cell_type": "code"
   },
   "source": [
    "_y = np.array([\"a\", \"b\"] * 50)\n",
    "_X = np.random.normal(size=(100, 3))\n",
    "_X_test = np.random.normal(size=(3, 3))\n",
    "\n",
    "oe = Pipeline(\n",
    "    [\n",
    "        (\"oe\", OrdinalEncoder()),\n",
    "        (\"reshaper\", FunctionTransformer(lambda x: np.squeeze(x))),\n",
    "    ]\n",
    ")\n",
    "\n",
    "lr = LogisticRegression()\n",
    "ttc = TransformedTargetClassifier(lr, oe)\n",
    "\n",
    "ttc.fit(_X, _y)\n",
    "ttc.predict(_X_test)"
   ],
   "execution_count": null,
   "outputs": [
    {
     "output_type": "execute_result",
     "execution_count": 20,
     "data": {
      "text/plain": "array(['a', 'a', 'a'], dtype=object)"
     },
     "metadata": {}
    }
   ]
  },
  {
   "cell_type": "markdown",
   "source": [
    "## Pipelines\n",
    "\n",
    "[`Pipelines`](https://scikit-learn.org/stable/modules/generated/sklearn.pipeline.Pipeline.html#sklearn.pipeline.Pipeline) allow you to run multiple operations on an input dataset in succession before an estimation is performed. It was originally designed to be a linear step-by-step transformation template but there are now additional tools in the `Pipeline` toolkit that allow for horizontal joining of \"columns\". This is out of scope for this blog post but you can [check out the docs for that here](https://scikit-learn.org/stable/modules/generated/sklearn.pipeline.FeatureUnion.html#sklearn.pipeline.FeatureUnion).\n",
    "\n",
    "The main use case for this approach becomes apparent when we look to perform experiments on a particular machine learning approach. Pipelines make it straightforward to perform cross validation and grid searching across both the feature engineering and estimator hyperparameters. Pipelines make it very hard to accidentally get your data into an improper state which often happens when you have the same input variable being modified across multiple jupyter notebook cells.\n",
    "\n",
    "In the next two cells we define a `Pipeline` which is applied to our PBP dataset. Since the last step in the pipeline inherits from `BaseEstimtor` the pipeline behaves exactly like an estimator. (enabling methods like `predict` and `score`) When we call fit, each of the steps fits the transformer and transforms the data before passing it to the next step."
   ],
   "metadata": {
    "tags": [],
    "cell_id": "000-1-f4bfff63-2259-4471-8c84-1d849171e717",
    "deepnote_cell_type": "markdown"
   }
  },
  {
   "cell_type": "markdown",
   "source": [
    "The following are descriptions of each of the steps across both estimators\n",
    "\n",
    "* Feature Transformation\n",
    "  * [`DictVectorizer`](https://scikit-learn.org/stable/modules/generated/sklearn.feature_extraction.DictVectorizer.html#sklearn.feature_extraction.DictVectorizer): Converts the input column of dictionary values into a sparse nxm matrix where n is the number of rows and m is the number of unique prescriptions. The value in each cell is the frequency with which the drug was prescribed by a practitioner.\n",
    "  * [`TfidfTransformer`](https://scikit-learn.org/stable/modules/generated/sklearn.feature_extraction.text.TfidfTransformer.html#sklearn.feature_extraction.text.TfidfTransformer): We can think of the above dictionary almost like a \"document\" with frequency counts of terms. Hence, we can use term frequency, inverse document frequency (TFIDF) to process those terms into a form that would be more meaningful for a classification model\n",
    "* Response Transformation ( [`TransformedTargetClassifier`](#00019-5e638b1b-8f33-48ff-9f86-b76d4609b135) )\n",
    "  * Transformer (also a `Pipeline`)\n",
    "    * [`JSONTargetSelector`](#00016-4dbbf08e-08fb-458e-918f-fa4b2dbdfed2): We supply this step a chosen response variable\n",
    "    * [`OrdinalEncoder`](https://scikit-learn.org/stable/modules/generated/sklearn.preprocessing.OrdinalEncoder.html#sklearn.preprocessing.OrdinalEncoder): This step converts a list of strings into numbers incrementing one by one.\n",
    "    * [`FunctionTransformer`](https://scikit-learn.org/stable/modules/generated/sklearn.preprocessing.FunctionTransformer.html#sklearn.preprocessing.FunctionTransformer): This step is a convenience method that allows us to apply a lambda function to the entire dataset. We make sure to reshape the data to a column vector as is required by most `sklearn` estimators\n",
    "  * Classifier\n",
    "    * [`LogisticRegression`](https://scikit-learn.org/stable/modules/generated/sklearn.linear_model.LogisticRegression.html#sklearn.linear_model.LogisticRegression): We choose to use logistic regression because it is the simplest classification model"
   ],
   "metadata": {
    "tags": [],
    "cell_id": "00037-ab19d0ef-7993-4288-b27f-953d9cfeae87",
    "deepnote_cell_type": "markdown"
   }
  },
  {
   "cell_type": "markdown",
   "source": [
    "Here we also [`clone`](https://scikit-learn.org/stable/modules/generated/sklearn.base.clone.html#sklearn.base.clone) `settlement_pipe` which duplicates its structure and parameters without keeping its state. We then swap out `JSONTargetSelector` with an instance that has the right target for the second pipeline."
   ],
   "metadata": {
    "tags": [],
    "cell_id": "00040-142d93c7-0523-4b68-97a0-6be93b30deed",
    "deepnote_cell_type": "markdown"
   }
  },
  {
   "cell_type": "code",
   "metadata": {
    "tags": [],
    "cell_id": "00015-004de4b1-113c-4829-9652-edc8d4ce25b6",
    "deepnote_to_be_reexecuted": false,
    "source_hash": "cd358d71",
    "execution_millis": 20,
    "execution_start": 1617968818198,
    "deepnote_cell_type": "code"
   },
   "source": [
    "settlement_pipe = Pipeline(\n",
    "    [\n",
    "        (\"dv\", DictVectorizer()),\n",
    "        (\"tfidf\", TfidfTransformer()),\n",
    "        (\n",
    "            \"ttc\",\n",
    "            TransformedTargetClassifier(\n",
    "                classifier=LogisticRegression(max_iter=1000),\n",
    "                transformer=Pipeline(\n",
    "                    [\n",
    "                        [\"jts\", JSONTargetSelector(\"settlement_type\", two_d_out=True)],\n",
    "                        (\"enc\", OrdinalEncoder()),\n",
    "                        (\"ft\", FunctionTransformer(lambda x: np.squeeze(x))),\n",
    "                    ]\n",
    "                ),\n",
    "            ),\n",
    "        ),\n",
    "    ]\n",
    ")\n",
    "region_pipe = clone(settlement_pipe)\n",
    "region_pipe.steps[2][1].transformer.steps[0][1] = JSONTargetSelector(\n",
    "    \"region\", two_d_out=True\n",
    ")"
   ],
   "execution_count": null,
   "outputs": []
  },
  {
   "cell_type": "code",
   "metadata": {
    "tags": [],
    "cell_id": "00041-db5f2b9c-a86b-4132-a3f9-fd0e150ac7e0",
    "deepnote_to_be_reexecuted": false,
    "source_hash": "cc9e1be0",
    "execution_millis": 33149,
    "execution_start": 1617968818232,
    "deepnote_cell_type": "code"
   },
   "source": [
    "settlement_pipe.fit(X_train, y_train);"
   ],
   "execution_count": null,
   "outputs": []
  },
  {
   "cell_type": "code",
   "metadata": {
    "tags": [],
    "cell_id": "00039-a476bf4e-3c73-4479-8d14-978f5f9c753f",
    "deepnote_to_be_reexecuted": false,
    "source_hash": "17beb3b5",
    "execution_millis": 146699,
    "execution_start": 1617968851384,
    "deepnote_cell_type": "code"
   },
   "source": [
    "region_pipe.fit(X_train, y_train);"
   ],
   "execution_count": null,
   "outputs": []
  },
  {
   "cell_type": "markdown",
   "source": [
    "Let's do some quick evaluations to see what the output looks like. Carefully selecting some specific rows which do not have too many prescriptions, we find the following output. Looks like 100% accuracy on this cherry picked, dataset... time to call it a day?"
   ],
   "metadata": {
    "tags": [],
    "cell_id": "00043-4cb7f14c-467a-45b3-99fc-1d889b787167",
    "deepnote_cell_type": "markdown"
   }
  },
  {
   "cell_type": "code",
   "metadata": {
    "tags": [],
    "cell_id": "00017-f4618ff5-df4d-48ee-8721-2a7162034f16",
    "deepnote_to_be_reexecuted": false,
    "source_hash": "e838ec16",
    "execution_millis": 77,
    "is_output_hidden": false,
    "execution_start": 1617968998084,
    "deepnote_cell_type": "code"
   },
   "source": [
    "# A slice with not too many X values\n",
    "N = slice(1, 4)\n",
    "sample_X = json_normalize(X[N])\n",
    "\n",
    "preds_df = pd.DataFrame(\n",
    "    zip(\n",
    "        json_normalize(y[N]).settlement_type,\n",
    "        settlement_pipe.predict(X[N]),\n",
    "        json_normalize(y[N]).region,\n",
    "        region_pipe.predict(X[N]),\n",
    "    ),\n",
    "    columns=[\"settlement_type\", \"settlement_type_hat\", \"region\", \"region_hat\"],\n",
    ")\n",
    "rslts_df = pd.concat([sample_X, preds_df], axis=1)\n",
    "rslts_df"
   ],
   "execution_count": null,
   "outputs": [
    {
     "output_type": "execute_result",
     "execution_count": 24,
     "data": {
      "application/vnd.deepnote.dataframe.v2+json": {
       "row_count": 3,
       "column_count": 8,
       "columns": [
        {
         "name": "CEPHALEXIN",
         "dtype": "float64",
         "stats": {
          "unique_count": 2,
          "nan_count": 1,
          "min": 23,
          "max": 28,
          "histogram": [
           {
            "bin_start": 23,
            "bin_end": 23.5,
            "count": 1
           },
           {
            "bin_start": 23.5,
            "bin_end": 24,
            "count": 0
           },
           {
            "bin_start": 24,
            "bin_end": 24.5,
            "count": 0
           },
           {
            "bin_start": 24.5,
            "bin_end": 25,
            "count": 0
           },
           {
            "bin_start": 25,
            "bin_end": 25.5,
            "count": 0
           },
           {
            "bin_start": 25.5,
            "bin_end": 26,
            "count": 0
           },
           {
            "bin_start": 26,
            "bin_end": 26.5,
            "count": 0
           },
           {
            "bin_start": 26.5,
            "bin_end": 27,
            "count": 0
           },
           {
            "bin_start": 27,
            "bin_end": 27.5,
            "count": 0
           },
           {
            "bin_start": 27.5,
            "bin_end": 28,
            "count": 1
           }
          ]
         }
        },
        {
         "name": "AMOXICILLIN",
         "dtype": "int64",
         "stats": {
          "unique_count": 3,
          "nan_count": 0,
          "min": 52,
          "max": 73,
          "histogram": [
           {
            "bin_start": 52,
            "bin_end": 54.1,
            "count": 1
           },
           {
            "bin_start": 54.1,
            "bin_end": 56.2,
            "count": 0
           },
           {
            "bin_start": 56.2,
            "bin_end": 58.3,
            "count": 0
           },
           {
            "bin_start": 58.3,
            "bin_end": 60.4,
            "count": 0
           },
           {
            "bin_start": 60.4,
            "bin_end": 62.5,
            "count": 0
           },
           {
            "bin_start": 62.5,
            "bin_end": 64.6,
            "count": 1
           },
           {
            "bin_start": 64.6,
            "bin_end": 66.7,
            "count": 0
           },
           {
            "bin_start": 66.7,
            "bin_end": 68.8,
            "count": 0
           },
           {
            "bin_start": 68.8,
            "bin_end": 70.9,
            "count": 0
           },
           {
            "bin_start": 70.9,
            "bin_end": 73,
            "count": 1
           }
          ]
         }
        },
        {
         "name": "HYDROCODONE-ACETAMINOPHEN",
         "dtype": "float64",
         "stats": {
          "unique_count": 1,
          "nan_count": 2,
          "min": 28,
          "max": 28,
          "histogram": [
           {
            "bin_start": 27.5,
            "bin_end": 27.6,
            "count": 0
           },
           {
            "bin_start": 27.6,
            "bin_end": 27.7,
            "count": 0
           },
           {
            "bin_start": 27.7,
            "bin_end": 27.8,
            "count": 0
           },
           {
            "bin_start": 27.8,
            "bin_end": 27.9,
            "count": 0
           },
           {
            "bin_start": 27.9,
            "bin_end": 28,
            "count": 0
           },
           {
            "bin_start": 28,
            "bin_end": 28.1,
            "count": 1
           },
           {
            "bin_start": 28.1,
            "bin_end": 28.2,
            "count": 0
           },
           {
            "bin_start": 28.2,
            "bin_end": 28.3,
            "count": 0
           },
           {
            "bin_start": 28.3,
            "bin_end": 28.4,
            "count": 0
           },
           {
            "bin_start": 28.4,
            "bin_end": 28.5,
            "count": 0
           }
          ]
         }
        },
        {
         "name": "CLINDAMYCIN HCL",
         "dtype": "float64",
         "stats": {
          "unique_count": 1,
          "nan_count": 2,
          "min": 11,
          "max": 11,
          "histogram": [
           {
            "bin_start": 10.5,
            "bin_end": 10.6,
            "count": 0
           },
           {
            "bin_start": 10.6,
            "bin_end": 10.7,
            "count": 0
           },
           {
            "bin_start": 10.7,
            "bin_end": 10.8,
            "count": 0
           },
           {
            "bin_start": 10.8,
            "bin_end": 10.9,
            "count": 0
           },
           {
            "bin_start": 10.9,
            "bin_end": 11,
            "count": 0
           },
           {
            "bin_start": 11,
            "bin_end": 11.1,
            "count": 1
           },
           {
            "bin_start": 11.1,
            "bin_end": 11.2,
            "count": 0
           },
           {
            "bin_start": 11.2,
            "bin_end": 11.3,
            "count": 0
           },
           {
            "bin_start": 11.3,
            "bin_end": 11.4,
            "count": 0
           },
           {
            "bin_start": 11.4,
            "bin_end": 11.5,
            "count": 0
           }
          ]
         }
        },
        {
         "name": "settlement_type",
         "dtype": "object",
         "stats": {
          "unique_count": 1,
          "nan_count": 0,
          "categories": [
           {
            "name": "non-urban",
            "count": 3
           }
          ]
         }
        },
        {
         "name": "settlement_type_hat",
         "dtype": "object",
         "stats": {
          "unique_count": 1,
          "nan_count": 0,
          "categories": [
           {
            "name": "non-urban",
            "count": 3
           }
          ]
         }
        },
        {
         "name": "region",
         "dtype": "object",
         "stats": {
          "unique_count": 2,
          "nan_count": 0,
          "categories": [
           {
            "name": "South",
            "count": 2
           },
           {
            "name": "Midwest",
            "count": 1
           }
          ]
         }
        },
        {
         "name": "region_hat",
         "dtype": "object",
         "stats": {
          "unique_count": 2,
          "nan_count": 0,
          "categories": [
           {
            "name": "South",
            "count": 2
           },
           {
            "name": "Midwest",
            "count": 1
           }
          ]
         }
        },
        {
         "name": "_deepnote_index_column",
         "dtype": "int64"
        }
       ],
       "rows_top": [
        {
         "CEPHALEXIN": "23.0",
         "AMOXICILLIN": 52,
         "HYDROCODONE-ACETAMINOPHEN": "28.0",
         "CLINDAMYCIN HCL": "nan",
         "settlement_type": "non-urban",
         "settlement_type_hat": "non-urban",
         "region": "South",
         "region_hat": "South",
         "_deepnote_index_column": 0
        },
        {
         "CEPHALEXIN": "28.0",
         "AMOXICILLIN": 73,
         "HYDROCODONE-ACETAMINOPHEN": "nan",
         "CLINDAMYCIN HCL": "11.0",
         "settlement_type": "non-urban",
         "settlement_type_hat": "non-urban",
         "region": "Midwest",
         "region_hat": "Midwest",
         "_deepnote_index_column": 1
        },
        {
         "CEPHALEXIN": "nan",
         "AMOXICILLIN": 63,
         "HYDROCODONE-ACETAMINOPHEN": "nan",
         "CLINDAMYCIN HCL": "nan",
         "settlement_type": "non-urban",
         "settlement_type_hat": "non-urban",
         "region": "South",
         "region_hat": "South",
         "_deepnote_index_column": 2
        }
       ],
       "rows_bottom": null
      },
      "text/plain": "   CEPHALEXIN  AMOXICILLIN  HYDROCODONE-ACETAMINOPHEN  CLINDAMYCIN HCL  \\\n0        23.0           52                       28.0              NaN   \n1        28.0           73                        NaN             11.0   \n2         NaN           63                        NaN              NaN   \n\n  settlement_type settlement_type_hat   region region_hat  \n0       non-urban           non-urban    South      South  \n1       non-urban           non-urban  Midwest    Midwest  \n2       non-urban           non-urban    South      South  ",
      "text/html": "<div>\n<style scoped>\n    .dataframe tbody tr th:only-of-type {\n        vertical-align: middle;\n    }\n\n    .dataframe tbody tr th {\n        vertical-align: top;\n    }\n\n    .dataframe thead th {\n        text-align: right;\n    }\n</style>\n<table border=\"1\" class=\"dataframe\">\n  <thead>\n    <tr style=\"text-align: right;\">\n      <th></th>\n      <th>CEPHALEXIN</th>\n      <th>AMOXICILLIN</th>\n      <th>HYDROCODONE-ACETAMINOPHEN</th>\n      <th>CLINDAMYCIN HCL</th>\n      <th>settlement_type</th>\n      <th>settlement_type_hat</th>\n      <th>region</th>\n      <th>region_hat</th>\n    </tr>\n  </thead>\n  <tbody>\n    <tr>\n      <th>0</th>\n      <td>23.0</td>\n      <td>52</td>\n      <td>28.0</td>\n      <td>NaN</td>\n      <td>non-urban</td>\n      <td>non-urban</td>\n      <td>South</td>\n      <td>South</td>\n    </tr>\n    <tr>\n      <th>1</th>\n      <td>28.0</td>\n      <td>73</td>\n      <td>NaN</td>\n      <td>11.0</td>\n      <td>non-urban</td>\n      <td>non-urban</td>\n      <td>Midwest</td>\n      <td>Midwest</td>\n    </tr>\n    <tr>\n      <th>2</th>\n      <td>NaN</td>\n      <td>63</td>\n      <td>NaN</td>\n      <td>NaN</td>\n      <td>non-urban</td>\n      <td>non-urban</td>\n      <td>South</td>\n      <td>South</td>\n    </tr>\n  </tbody>\n</table>\n</div>"
     },
     "metadata": {}
    }
   ]
  },
  {
   "cell_type": "markdown",
   "source": [
    "Anyways, when we actually score the models, we find the following training accuracies. Not too bad for no hyperparameter tuning."
   ],
   "metadata": {
    "tags": [],
    "cell_id": "00045-5c4d7d76-e794-4595-b7eb-345696c900f9",
    "deepnote_cell_type": "markdown"
   }
  },
  {
   "cell_type": "code",
   "metadata": {
    "tags": [],
    "cell_id": "00017-00bc3f0b-1980-44ad-ba40-ef1d34db2a38",
    "deepnote_to_be_reexecuted": false,
    "source_hash": "7ac0755e",
    "execution_millis": 30734,
    "execution_start": 1617968998123,
    "deepnote_cell_type": "code"
   },
   "source": [
    "s_train_score = settlement_pipe.score(X_train, y_train)\n",
    "r_train_score = region_pipe.score(X_train, y_train)\n",
    "s_test_score = settlement_pipe.score(X_test, y_test)\n",
    "r_test_score = region_pipe.score(X_test, y_test)\n",
    "\n",
    "scores_df = pd.DataFrame(\n",
    "    {\n",
    "        \"settlement_type\": [f\"{s_train_score:.3f}\", f\"{s_test_score:.3f}\"],\n",
    "        \"region\": [f\"{r_train_score:.3f}\", f\"{r_test_score:.3f}\"],\n",
    "    },\n",
    "    index=[\"train\", \"test\"],\n",
    ")\n",
    "\n",
    "scores_df"
   ],
   "execution_count": null,
   "outputs": [
    {
     "output_type": "execute_result",
     "execution_count": 25,
     "data": {
      "application/vnd.deepnote.dataframe.v2+json": {
       "row_count": 2,
       "column_count": 2,
       "columns": [
        {
         "name": "settlement_type",
         "dtype": "object",
         "stats": {
          "unique_count": 2,
          "nan_count": 0,
          "categories": [
           {
            "name": "0.646",
            "count": 1
           },
           {
            "name": "0.636",
            "count": 1
           }
          ]
         }
        },
        {
         "name": "region",
         "dtype": "object",
         "stats": {
          "unique_count": 2,
          "nan_count": 0,
          "categories": [
           {
            "name": "0.462",
            "count": 1
           },
           {
            "name": "0.453",
            "count": 1
           }
          ]
         }
        },
        {
         "name": "_deepnote_index_column",
         "dtype": "object"
        }
       ],
       "rows_top": [
        {
         "settlement_type": "0.646",
         "region": "0.462",
         "_deepnote_index_column": "train"
        },
        {
         "settlement_type": "0.636",
         "region": "0.453",
         "_deepnote_index_column": "test"
        }
       ],
       "rows_bottom": null
      },
      "text/plain": "      settlement_type region\ntrain           0.646  0.462\ntest            0.636  0.453",
      "text/html": "<div>\n<style scoped>\n    .dataframe tbody tr th:only-of-type {\n        vertical-align: middle;\n    }\n\n    .dataframe tbody tr th {\n        vertical-align: top;\n    }\n\n    .dataframe thead th {\n        text-align: right;\n    }\n</style>\n<table border=\"1\" class=\"dataframe\">\n  <thead>\n    <tr style=\"text-align: right;\">\n      <th></th>\n      <th>settlement_type</th>\n      <th>region</th>\n    </tr>\n  </thead>\n  <tbody>\n    <tr>\n      <th>train</th>\n      <td>0.646</td>\n      <td>0.462</td>\n    </tr>\n    <tr>\n      <th>test</th>\n      <td>0.636</td>\n      <td>0.453</td>\n    </tr>\n  </tbody>\n</table>\n</div>"
     },
     "metadata": {}
    }
   ]
  },
  {
   "cell_type": "markdown",
   "source": [
    "## Further Resources\n",
    "\n",
    "**Future Work**\n",
    "\n",
    "* One interesting improvement here could be to add an extra custom transformer before the `DictVectorizer`. One that removes frequent and infrequent medications may improve performance. You should have all the tools to add this step to the pipeline.\n",
    "* Another improvement to deepen your understanding of pipelines would be to try and see how you could use [`GridSearchCV`](https://scikit-learn.org/stable/modules/generated/sklearn.model_selection.GridSearchCV.html#sklearn.model_selection.GridSearchCV) to find a more optimal model. It would be especially useful to see how tuning interplays with your custom transformer from the previous step\n",
    "\n",
    "**Other Links**\n",
    "\n",
    "The best place to learn more about these advanced `sklearn` features is actually their documentation. They have a user guide which is quite good, and their API is well documented as well. Additionally, I picked up most of the transformer tricks by reading the source code of the feature extraction transformers. If you have access to the PyCharm debugger, it is also really useful to step through the code as `Pipeline.fit` runs since a lot of functionality is abstracted away.\n",
    "\n",
    "* [The API](https://scikit-learn.org/stable/modules/classes.html)\n",
    "* [The Pipeline User Guide](https://scikit-learn.org/stable/modules/compose.html)\n",
    "* [The Feature Extraction Source Code](https://github.com/scikit-learn/scikit-learn/tree/main/sklearn/feature_extraction)"
   ],
   "metadata": {
    "tags": [],
    "cell_id": "00005-07a09eff-dafc-4a9c-a00f-4e58ace92867",
    "deepnote_cell_type": "markdown"
   }
  },
  {
   "cell_type": "markdown",
   "source": [
    "## Appendix"
   ],
   "metadata": {
    "tags": [],
    "cell_id": "00005-d549005e-6700-4492-8c16-3b907a1a2955",
    "deepnote_cell_type": "markdown"
   }
  },
  {
   "cell_type": "code",
   "metadata": {
    "tags": [],
    "cell_id": "00002-08640eda-d5a6-4511-b3fd-3c15a50b19eb",
    "deepnote_to_be_reexecuted": false,
    "source_hash": "e1f4437b",
    "execution_millis": 268,
    "execution_start": 1617969028853,
    "deepnote_cell_type": "code",
    "pycharm": {
     "name": "#%%\n"
    }
   },
   "source": [
    "from nbformat import read\n",
    "\n",
    "# Default path for this notebook\n",
    "with open(\"/work/notebook.ipynb\", \"r\", encoding=\"utf-8\") as f:\n",
    "    nb = read(f, 4)\n",
    "\n",
    "# Count the number of lines in markdown or heading cells\n",
    "word_count = sum(\n",
    "    [\n",
    "        len(cell[\"source\"].replace(\"#\", \"\").lstrip().split(\" \"))\n",
    "        for cell in nb[\"cells\"]\n",
    "        if cell.cell_type in [\"markdown\", \"heading\"]\n",
    "    ]\n",
    ")\n",
    "\n",
    "# Count number of lines in the notebook and subtract the number of\n",
    "# lines in this cell\n",
    "line_count = (\n",
    "    sum(\n",
    "        [\n",
    "            # Filter out cells that are comments or are empty\n",
    "            len(\n",
    "                list(\n",
    "                    filter(\n",
    "                        lambda line: not (line.lstrip().startswith(\"#\")),\n",
    "                        cell[\"source\"].split(\"\\n\"),\n",
    "                    )\n",
    "                )\n",
    "            )\n",
    "            for cell in nb[\"cells\"]\n",
    "            if cell.cell_type == \"code\"\n",
    "        ]\n",
    "    )\n",
    "    - 27\n",
    ")\n",
    "\n",
    "print(f\"Word Count: {word_count:,}\")\n",
    "print(f\"Line Count: {line_count:,}\")"
   ],
   "execution_count": null,
   "outputs": [
    {
     "name": "stdout",
     "text": "Word Count: 2,114\nLine Count: 206\n",
     "output_type": "stream"
    }
   ]
  }
 ],
 "nbformat": 4,
 "nbformat_minor": 2,
 "metadata": {
  "orig_nbformat": 2,
  "deepnote": {
   "is_reactive": false
  },
  "deepnote_notebook_id": "9477622d-feb6-43b1-a4a6-cdcaeeea6be1",
  "deepnote_execution_queue": []
 }
}
